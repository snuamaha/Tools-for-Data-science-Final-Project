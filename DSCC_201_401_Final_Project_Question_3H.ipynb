{
 "cells": [
  {
   "cell_type": "markdown",
   "metadata": {},
   "source": [
    "# QUESTION 3H"
   ]
  },
  {
   "cell_type": "markdown",
   "metadata": {},
   "source": [
    "**H. Using gradient boosting decision trees with R's xgboost library, generate a machine learning model for the wheat seed classification based on the features provided in the data. Generate a confusion matrix for the test data set to demonstrate the accuracy of the model. Based on your model, classify the beans provided in the unlabeled wheat-unknown.csv data set. Indicate which classification has been assigned to each of the unlabeled seeds. How do the results with xgboost compare to the support vector machine model?**"
   ]
  },
  {
   "cell_type": "code",
   "execution_count": 8,
   "metadata": {},
   "outputs": [],
   "source": [
    "install.packages('xgboost')\n",
    "library(xgboost)\n",
    "install.packages('caret')\n",
    "library(caret)\n",
    "install.packages('ggplot2')\n",
    "install.packages('lattice')\n",
    "library(ggplot2)\n",
    "library(lattice)"
   ]
  },
  {
   "cell_type": "code",
   "execution_count": 2,
   "metadata": {},
   "outputs": [
    {
     "data": {
      "text/html": [
       "<table>\n",
       "<caption>A data.frame: 5 × 8</caption>\n",
       "<thead>\n",
       "\t<tr><th scope=col>area</th><th scope=col>perimeter</th><th scope=col>compactness</th><th scope=col>length</th><th scope=col>width</th><th scope=col>asymmetry</th><th scope=col>groove</th><th scope=col>type</th></tr>\n",
       "\t<tr><th scope=col>&lt;dbl&gt;</th><th scope=col>&lt;dbl&gt;</th><th scope=col>&lt;dbl&gt;</th><th scope=col>&lt;dbl&gt;</th><th scope=col>&lt;dbl&gt;</th><th scope=col>&lt;dbl&gt;</th><th scope=col>&lt;dbl&gt;</th><th scope=col>&lt;fct&gt;</th></tr>\n",
       "</thead>\n",
       "<tbody>\n",
       "\t<tr><td>15.26</td><td>14.84</td><td>0.8710</td><td>5.763</td><td>3.312</td><td>2.221</td><td>5.220</td><td>A</td></tr>\n",
       "\t<tr><td>14.88</td><td>14.57</td><td>0.8811</td><td>5.554</td><td>3.333</td><td>1.018</td><td>4.956</td><td>A</td></tr>\n",
       "\t<tr><td>14.29</td><td>14.09</td><td>0.9050</td><td>5.291</td><td>3.337</td><td>2.699</td><td>4.825</td><td>A</td></tr>\n",
       "\t<tr><td>13.84</td><td>13.94</td><td>0.8955</td><td>5.324</td><td>3.379</td><td>2.259</td><td>4.805</td><td>A</td></tr>\n",
       "\t<tr><td>16.14</td><td>14.99</td><td>0.9034</td><td>5.658</td><td>3.562</td><td>1.355</td><td>5.175</td><td>A</td></tr>\n",
       "</tbody>\n",
       "</table>\n"
      ],
      "text/latex": [
       "A data.frame: 5 × 8\n",
       "\\begin{tabular}{r|llllllll}\n",
       " area & perimeter & compactness & length & width & asymmetry & groove & type\\\\\n",
       " <dbl> & <dbl> & <dbl> & <dbl> & <dbl> & <dbl> & <dbl> & <fct>\\\\\n",
       "\\hline\n",
       "\t 15.26 & 14.84 & 0.8710 & 5.763 & 3.312 & 2.221 & 5.220 & A\\\\\n",
       "\t 14.88 & 14.57 & 0.8811 & 5.554 & 3.333 & 1.018 & 4.956 & A\\\\\n",
       "\t 14.29 & 14.09 & 0.9050 & 5.291 & 3.337 & 2.699 & 4.825 & A\\\\\n",
       "\t 13.84 & 13.94 & 0.8955 & 5.324 & 3.379 & 2.259 & 4.805 & A\\\\\n",
       "\t 16.14 & 14.99 & 0.9034 & 5.658 & 3.562 & 1.355 & 5.175 & A\\\\\n",
       "\\end{tabular}\n"
      ],
      "text/markdown": [
       "\n",
       "A data.frame: 5 × 8\n",
       "\n",
       "| area &lt;dbl&gt; | perimeter &lt;dbl&gt; | compactness &lt;dbl&gt; | length &lt;dbl&gt; | width &lt;dbl&gt; | asymmetry &lt;dbl&gt; | groove &lt;dbl&gt; | type &lt;fct&gt; |\n",
       "|---|---|---|---|---|---|---|---|\n",
       "| 15.26 | 14.84 | 0.8710 | 5.763 | 3.312 | 2.221 | 5.220 | A |\n",
       "| 14.88 | 14.57 | 0.8811 | 5.554 | 3.333 | 1.018 | 4.956 | A |\n",
       "| 14.29 | 14.09 | 0.9050 | 5.291 | 3.337 | 2.699 | 4.825 | A |\n",
       "| 13.84 | 13.94 | 0.8955 | 5.324 | 3.379 | 2.259 | 4.805 | A |\n",
       "| 16.14 | 14.99 | 0.9034 | 5.658 | 3.562 | 1.355 | 5.175 | A |\n",
       "\n"
      ],
      "text/plain": [
       "  area  perimeter compactness length width asymmetry groove type\n",
       "1 15.26 14.84     0.8710      5.763  3.312 2.221     5.220  A   \n",
       "2 14.88 14.57     0.8811      5.554  3.333 1.018     4.956  A   \n",
       "3 14.29 14.09     0.9050      5.291  3.337 2.699     4.825  A   \n",
       "4 13.84 13.94     0.8955      5.324  3.379 2.259     4.805  A   \n",
       "5 16.14 14.99     0.9034      5.658  3.562 1.355     5.175  A   "
      ]
     },
     "metadata": {},
     "output_type": "display_data"
    }
   ],
   "source": [
    "wheat_x <- read.csv('/public/bmort/R/wheat.csv')\n",
    "head(wheat_x,5)"
   ]
  },
  {
   "cell_type": "code",
   "execution_count": 3,
   "metadata": {},
   "outputs": [],
   "source": [
    "## Splitting the data into training and testing data\n",
    "splitt <- createDataPartition(y= wheat_x$type, p= 0.80, list = FALSE)"
   ]
  },
  {
   "cell_type": "code",
   "execution_count": 38,
   "metadata": {},
   "outputs": [],
   "source": [
    "## Training and testing data\n",
    "trainn <- wheat_x[splitt, ]\n",
    "testt <- wheat_x[-splitt,]"
   ]
  },
  {
   "cell_type": "code",
   "execution_count": 39,
   "metadata": {},
   "outputs": [],
   "source": [
    "#determine predictor and target variables in training set\n",
    "train_X <-data.matrix(trainn[,-8])\n",
    "train_y <- trainn[,8]"
   ]
  },
  {
   "cell_type": "code",
   "execution_count": 40,
   "metadata": {},
   "outputs": [],
   "source": [
    "#determine predictor and response variables in testing set\n",
    "test_X <- data.matrix(testt[,-8])\n",
    "test_y <- testt[,8]"
   ]
  },
  {
   "cell_type": "code",
   "execution_count": 41,
   "metadata": {},
   "outputs": [],
   "source": [
    "## Final training and testing data\n",
    "# converting the train and test data into xgboost matrix type.\n",
    "Xgb_train <- xgb.DMatrix(data = train_X, label = train_y)\n",
    "Xgb_test <- xgb.DMatrix(data = test_X, label = test_y)"
   ]
  },
  {
   "cell_type": "code",
   "execution_count": 46,
   "metadata": {},
   "outputs": [
    {
     "name": "stdout",
     "output_type": "stream",
     "text": [
      "[1]\ttrain-rmse:1.209089\ttest-rmse:1.208659 \n",
      "[2]\ttrain-rmse:0.873718\ttest-rmse:0.871835 \n",
      "[3]\ttrain-rmse:0.640466\ttest-rmse:0.648591 \n",
      "[4]\ttrain-rmse:0.479072\ttest-rmse:0.505488 \n",
      "[5]\ttrain-rmse:0.366879\ttest-rmse:0.407975 \n",
      "[6]\ttrain-rmse:0.286911\ttest-rmse:0.356380 \n",
      "[7]\ttrain-rmse:0.231867\ttest-rmse:0.320092 \n",
      "[8]\ttrain-rmse:0.194603\ttest-rmse:0.308039 \n",
      "[9]\ttrain-rmse:0.168215\ttest-rmse:0.304311 \n",
      "[10]\ttrain-rmse:0.150808\ttest-rmse:0.299737 \n",
      "[11]\ttrain-rmse:0.140158\ttest-rmse:0.298941 \n",
      "[12]\ttrain-rmse:0.129001\ttest-rmse:0.303604 \n",
      "[13]\ttrain-rmse:0.122792\ttest-rmse:0.301365 \n",
      "[14]\ttrain-rmse:0.115298\ttest-rmse:0.298990 \n",
      "[15]\ttrain-rmse:0.113144\ttest-rmse:0.300021 \n",
      "[16]\ttrain-rmse:0.111610\ttest-rmse:0.300074 \n",
      "[17]\ttrain-rmse:0.108576\ttest-rmse:0.302950 \n",
      "[18]\ttrain-rmse:0.102985\ttest-rmse:0.303109 \n",
      "[19]\ttrain-rmse:0.099516\ttest-rmse:0.302980 \n",
      "[20]\ttrain-rmse:0.095539\ttest-rmse:0.302861 \n",
      "[21]\ttrain-rmse:0.093030\ttest-rmse:0.302945 \n",
      "[22]\ttrain-rmse:0.089520\ttest-rmse:0.302915 \n",
      "[23]\ttrain-rmse:0.085736\ttest-rmse:0.303466 \n",
      "[24]\ttrain-rmse:0.081723\ttest-rmse:0.307019 \n",
      "[25]\ttrain-rmse:0.079704\ttest-rmse:0.306318 \n",
      "[26]\ttrain-rmse:0.075999\ttest-rmse:0.304814 \n",
      "[27]\ttrain-rmse:0.074217\ttest-rmse:0.304922 \n",
      "[28]\ttrain-rmse:0.070865\ttest-rmse:0.304198 \n",
      "[29]\ttrain-rmse:0.068277\ttest-rmse:0.304071 \n",
      "[30]\ttrain-rmse:0.065921\ttest-rmse:0.303537 \n",
      "[31]\ttrain-rmse:0.063231\ttest-rmse:0.305327 \n",
      "[32]\ttrain-rmse:0.061330\ttest-rmse:0.305064 \n",
      "[33]\ttrain-rmse:0.060070\ttest-rmse:0.304929 \n",
      "[34]\ttrain-rmse:0.056920\ttest-rmse:0.305270 \n",
      "[35]\ttrain-rmse:0.054811\ttest-rmse:0.304541 \n",
      "[36]\ttrain-rmse:0.052888\ttest-rmse:0.304622 \n",
      "[37]\ttrain-rmse:0.049996\ttest-rmse:0.300759 \n",
      "[38]\ttrain-rmse:0.047264\ttest-rmse:0.300882 \n",
      "[39]\ttrain-rmse:0.045981\ttest-rmse:0.300983 \n",
      "[40]\ttrain-rmse:0.044827\ttest-rmse:0.300787 \n",
      "[41]\ttrain-rmse:0.043348\ttest-rmse:0.301096 \n",
      "[42]\ttrain-rmse:0.041247\ttest-rmse:0.301317 \n",
      "[43]\ttrain-rmse:0.039651\ttest-rmse:0.300635 \n",
      "[44]\ttrain-rmse:0.038232\ttest-rmse:0.300291 \n",
      "[45]\ttrain-rmse:0.036961\ttest-rmse:0.300564 \n",
      "[46]\ttrain-rmse:0.035821\ttest-rmse:0.300235 \n",
      "[47]\ttrain-rmse:0.035473\ttest-rmse:0.300143 \n",
      "[48]\ttrain-rmse:0.034385\ttest-rmse:0.300060 \n",
      "[49]\ttrain-rmse:0.032380\ttest-rmse:0.297359 \n",
      "[50]\ttrain-rmse:0.031419\ttest-rmse:0.296653 \n",
      "[51]\ttrain-rmse:0.030496\ttest-rmse:0.297024 \n",
      "[52]\ttrain-rmse:0.029773\ttest-rmse:0.296946 \n",
      "[53]\ttrain-rmse:0.029425\ttest-rmse:0.296782 \n",
      "[54]\ttrain-rmse:0.028883\ttest-rmse:0.296843 \n",
      "[55]\ttrain-rmse:0.028564\ttest-rmse:0.296923 \n",
      "[56]\ttrain-rmse:0.028234\ttest-rmse:0.296804 \n",
      "[57]\ttrain-rmse:0.027929\ttest-rmse:0.296774 \n",
      "[58]\ttrain-rmse:0.027339\ttest-rmse:0.296692 \n",
      "[59]\ttrain-rmse:0.026817\ttest-rmse:0.296387 \n",
      "[60]\ttrain-rmse:0.026610\ttest-rmse:0.296445 \n",
      "[61]\ttrain-rmse:0.026143\ttest-rmse:0.296381 \n",
      "[62]\ttrain-rmse:0.025321\ttest-rmse:0.296064 \n",
      "[63]\ttrain-rmse:0.024299\ttest-rmse:0.296329 \n",
      "[64]\ttrain-rmse:0.023492\ttest-rmse:0.296354 \n",
      "[65]\ttrain-rmse:0.022822\ttest-rmse:0.296251 \n",
      "[66]\ttrain-rmse:0.022185\ttest-rmse:0.296303 \n",
      "[67]\ttrain-rmse:0.021488\ttest-rmse:0.296845 \n",
      "[68]\ttrain-rmse:0.020897\ttest-rmse:0.296682 \n",
      "[69]\ttrain-rmse:0.020374\ttest-rmse:0.296637 \n",
      "[70]\ttrain-rmse:0.019961\ttest-rmse:0.296785 \n"
     ]
    }
   ],
   "source": [
    "## defining watchlist\n",
    "watch_list <- list(train= Xgb_train,test= Xgb_test)\n",
    "\n",
    "## Creating the model\n",
    "xg_model <- xgb.train(data = Xgb_train, max.depth = 3, watchlist = watch_list, nrounds = 70)\n",
    "# summary(xg_model)"
   ]
  },
  {
   "cell_type": "code",
   "execution_count": 47,
   "metadata": {},
   "outputs": [
    {
     "name": "stdout",
     "output_type": "stream",
     "text": [
      "[1]\ttrain-rmse:1.209089 \n",
      "[2]\ttrain-rmse:0.873718 \n",
      "[3]\ttrain-rmse:0.640466 \n",
      "[4]\ttrain-rmse:0.479072 \n",
      "[5]\ttrain-rmse:0.366879 \n",
      "[6]\ttrain-rmse:0.286911 \n",
      "[7]\ttrain-rmse:0.231867 \n",
      "[8]\ttrain-rmse:0.194603 \n",
      "[9]\ttrain-rmse:0.168215 \n",
      "[10]\ttrain-rmse:0.150808 \n",
      "[11]\ttrain-rmse:0.140158 \n",
      "[12]\ttrain-rmse:0.129001 \n",
      "[13]\ttrain-rmse:0.122792 \n",
      "[14]\ttrain-rmse:0.115298 \n",
      "[15]\ttrain-rmse:0.113144 \n",
      "[16]\ttrain-rmse:0.111610 \n",
      "[17]\ttrain-rmse:0.108576 \n",
      "[18]\ttrain-rmse:0.102985 \n",
      "[19]\ttrain-rmse:0.099516 \n",
      "[20]\ttrain-rmse:0.095539 \n",
      "[21]\ttrain-rmse:0.093030 \n",
      "[22]\ttrain-rmse:0.089520 \n",
      "[23]\ttrain-rmse:0.085736 \n",
      "[24]\ttrain-rmse:0.081723 \n",
      "[25]\ttrain-rmse:0.079704 \n",
      "[26]\ttrain-rmse:0.075999 \n",
      "[27]\ttrain-rmse:0.074217 \n",
      "[28]\ttrain-rmse:0.070865 \n",
      "[29]\ttrain-rmse:0.068277 \n",
      "[30]\ttrain-rmse:0.065921 \n",
      "[31]\ttrain-rmse:0.063231 \n",
      "[32]\ttrain-rmse:0.061330 \n",
      "[33]\ttrain-rmse:0.060070 \n",
      "[34]\ttrain-rmse:0.056920 \n",
      "[35]\ttrain-rmse:0.054811 \n",
      "[36]\ttrain-rmse:0.052888 \n",
      "[37]\ttrain-rmse:0.049996 \n",
      "[38]\ttrain-rmse:0.047264 \n",
      "[39]\ttrain-rmse:0.045981 \n",
      "[40]\ttrain-rmse:0.044827 \n",
      "[41]\ttrain-rmse:0.043348 \n",
      "[42]\ttrain-rmse:0.041247 \n",
      "[43]\ttrain-rmse:0.039651 \n",
      "[44]\ttrain-rmse:0.038232 \n",
      "[45]\ttrain-rmse:0.036961 \n",
      "[46]\ttrain-rmse:0.035821 \n",
      "[47]\ttrain-rmse:0.035473 \n",
      "[48]\ttrain-rmse:0.034385 \n",
      "[49]\ttrain-rmse:0.032380 \n",
      "[50]\ttrain-rmse:0.031419 \n"
     ]
    }
   ],
   "source": [
    "## Defining a the final model\n",
    "f_model <- xgboost(data = Xgb_train, max.depth =3, nrounds = 50)"
   ]
  },
  {
   "cell_type": "code",
   "execution_count": 62,
   "metadata": {},
   "outputs": [
    {
     "data": {
      "text/html": [
       "<ol class=list-inline>\n",
       "\t<li>1.07092070579529</li>\n",
       "\t<li>1.08245182037354</li>\n",
       "\t<li>1.34180295467377</li>\n",
       "\t<li>0.87090277671814</li>\n",
       "\t<li>2.41850447654724</li>\n",
       "\t<li>1.34151339530945</li>\n",
       "\t<li>1.54925894737244</li>\n",
       "\t<li>1.26427865028381</li>\n",
       "\t<li>1.14174437522888</li>\n",
       "\t<li>0.993972659111023</li>\n",
       "\t<li>1.14301800727844</li>\n",
       "\t<li>1.26121783256531</li>\n",
       "\t<li>1.09366059303284</li>\n",
       "\t<li>1.96713089942932</li>\n",
       "\t<li>2.0047287940979</li>\n",
       "\t<li>2.04513692855835</li>\n",
       "\t<li>2.00014972686768</li>\n",
       "\t<li>2.00773334503174</li>\n",
       "\t<li>1.94364893436432</li>\n",
       "\t<li>2.02451372146606</li>\n",
       "\t<li>1.96146869659424</li>\n",
       "\t<li>2.01924133300781</li>\n",
       "\t<li>1.97906804084778</li>\n",
       "\t<li>1.82517683506012</li>\n",
       "\t<li>1.88484585285187</li>\n",
       "\t<li>1.87115859985352</li>\n",
       "\t<li>2.57206106185913</li>\n",
       "\t<li>2.90848565101624</li>\n",
       "\t<li>2.99162435531616</li>\n",
       "\t<li>2.98265147209167</li>\n",
       "\t<li>3.00836515426636</li>\n",
       "\t<li>3.00075268745422</li>\n",
       "\t<li>3.01530051231384</li>\n",
       "\t<li>2.57041525840759</li>\n",
       "\t<li>2.97980642318726</li>\n",
       "\t<li>2.97694706916809</li>\n",
       "\t<li>2.75333571434021</li>\n",
       "\t<li>3.26959133148193</li>\n",
       "</ol>\n"
      ],
      "text/latex": [
       "\\begin{enumerate*}\n",
       "\\item 1.07092070579529\n",
       "\\item 1.08245182037354\n",
       "\\item 1.34180295467377\n",
       "\\item 0.87090277671814\n",
       "\\item 2.41850447654724\n",
       "\\item 1.34151339530945\n",
       "\\item 1.54925894737244\n",
       "\\item 1.26427865028381\n",
       "\\item 1.14174437522888\n",
       "\\item 0.993972659111023\n",
       "\\item 1.14301800727844\n",
       "\\item 1.26121783256531\n",
       "\\item 1.09366059303284\n",
       "\\item 1.96713089942932\n",
       "\\item 2.0047287940979\n",
       "\\item 2.04513692855835\n",
       "\\item 2.00014972686768\n",
       "\\item 2.00773334503174\n",
       "\\item 1.94364893436432\n",
       "\\item 2.02451372146606\n",
       "\\item 1.96146869659424\n",
       "\\item 2.01924133300781\n",
       "\\item 1.97906804084778\n",
       "\\item 1.82517683506012\n",
       "\\item 1.88484585285187\n",
       "\\item 1.87115859985352\n",
       "\\item 2.57206106185913\n",
       "\\item 2.90848565101624\n",
       "\\item 2.99162435531616\n",
       "\\item 2.98265147209167\n",
       "\\item 3.00836515426636\n",
       "\\item 3.00075268745422\n",
       "\\item 3.01530051231384\n",
       "\\item 2.57041525840759\n",
       "\\item 2.97980642318726\n",
       "\\item 2.97694706916809\n",
       "\\item 2.75333571434021\n",
       "\\item 3.26959133148193\n",
       "\\end{enumerate*}\n"
      ],
      "text/markdown": [
       "1. 1.07092070579529\n",
       "2. 1.08245182037354\n",
       "3. 1.34180295467377\n",
       "4. 0.87090277671814\n",
       "5. 2.41850447654724\n",
       "6. 1.34151339530945\n",
       "7. 1.54925894737244\n",
       "8. 1.26427865028381\n",
       "9. 1.14174437522888\n",
       "10. 0.993972659111023\n",
       "11. 1.14301800727844\n",
       "12. 1.26121783256531\n",
       "13. 1.09366059303284\n",
       "14. 1.96713089942932\n",
       "15. 2.0047287940979\n",
       "16. 2.04513692855835\n",
       "17. 2.00014972686768\n",
       "18. 2.00773334503174\n",
       "19. 1.94364893436432\n",
       "20. 2.02451372146606\n",
       "21. 1.96146869659424\n",
       "22. 2.01924133300781\n",
       "23. 1.97906804084778\n",
       "24. 1.82517683506012\n",
       "25. 1.88484585285187\n",
       "26. 1.87115859985352\n",
       "27. 2.57206106185913\n",
       "28. 2.90848565101624\n",
       "29. 2.99162435531616\n",
       "30. 2.98265147209167\n",
       "31. 3.00836515426636\n",
       "32. 3.00075268745422\n",
       "33. 3.01530051231384\n",
       "34. 2.57041525840759\n",
       "35. 2.97980642318726\n",
       "36. 2.97694706916809\n",
       "37. 2.75333571434021\n",
       "38. 3.26959133148193\n",
       "\n",
       "\n"
      ],
      "text/plain": [
       " [1] 1.0709207 1.0824518 1.3418030 0.8709028 2.4185045 1.3415134 1.5492589\n",
       " [8] 1.2642787 1.1417444 0.9939727 1.1430180 1.2612178 1.0936606 1.9671309\n",
       "[15] 2.0047288 2.0451369 2.0001497 2.0077333 1.9436489 2.0245137 1.9614687\n",
       "[22] 2.0192413 1.9790680 1.8251768 1.8848459 1.8711586 2.5720611 2.9084857\n",
       "[29] 2.9916244 2.9826515 3.0083652 3.0007527 3.0153005 2.5704153 2.9798064\n",
       "[36] 2.9769471 2.7533357 3.2695913"
      ]
     },
     "metadata": {},
     "output_type": "display_data"
    }
   ],
   "source": [
    "## Predicting the test data\n",
    "pred_model <- predict(f_model, Xgb_test, reshape = TRUE)\n",
    "pred_model"
   ]
  },
  {
   "cell_type": "code",
   "execution_count": 60,
   "metadata": {},
   "outputs": [
    {
     "name": "stdout",
     "output_type": "stream",
     "text": [
      " [1] A A A A B A B A A A A A A B B B B B B B B B B B B B C C C C C C C C C C C C\n",
      "Levels: A B C\n"
     ]
    }
   ],
   "source": [
    "## Converting the predictions to factors\n",
    "pred_model[(pred_model>3)] = 3\n",
    "pred_y = as.factor((levels(test_y))[round(pred_model)])\n",
    "print(pred_y)"
   ]
  },
  {
   "cell_type": "code",
   "execution_count": 65,
   "metadata": {},
   "outputs": [
    {
     "data": {
      "text/plain": [
       "Confusion Matrix and Statistics\n",
       "\n",
       "          Reference\n",
       "Prediction  A  B  C\n",
       "         A 11  2  0\n",
       "         B  0 13  0\n",
       "         C  0  0 12\n",
       "\n",
       "Overall Statistics\n",
       "                                          \n",
       "               Accuracy : 0.9474          \n",
       "                 95% CI : (0.8225, 0.9936)\n",
       "    No Information Rate : 0.3947          \n",
       "    P-Value [Acc > NIR] : 7.82e-13        \n",
       "                                          \n",
       "                  Kappa : 0.921           \n",
       "                                          \n",
       " Mcnemar's Test P-Value : NA              \n",
       "\n",
       "Statistics by Class:\n",
       "\n",
       "                     Class: A Class: B Class: C\n",
       "Sensitivity            1.0000   0.8667   1.0000\n",
       "Specificity            0.9259   1.0000   1.0000\n",
       "Pos Pred Value         0.8462   1.0000   1.0000\n",
       "Neg Pred Value         1.0000   0.9200   1.0000\n",
       "Prevalence             0.2895   0.3947   0.3158\n",
       "Detection Rate         0.2895   0.3421   0.3158\n",
       "Detection Prevalence   0.3421   0.3421   0.3158\n",
       "Balanced Accuracy      0.9630   0.9333   1.0000"
      ]
     },
     "metadata": {},
     "output_type": "display_data"
    }
   ],
   "source": [
    "## Creating the confusion matrix\n",
    "conf_matrix <- confusionMatrix(test_y, pred_y )\n",
    "conf_matrix"
   ]
  },
  {
   "cell_type": "markdown",
   "metadata": {},
   "source": [
    "This xgboost model has an accuracy of 94.74% classification rate. From the confusion matrix, we can see that model correctly classifies 11 type A wheat seeds as type A and falsely classified 2 type A wheat seeds as type B. It also, correctly classified 13 type B wheat seeds as type B. Finally it correctly classified 12 type C as type C."
   ]
  },
  {
   "cell_type": "code",
   "execution_count": 68,
   "metadata": {},
   "outputs": [
    {
     "data": {
      "text/html": [
       "<table>\n",
       "<caption>A data.frame: 10 × 7</caption>\n",
       "<thead>\n",
       "\t<tr><th scope=col>area</th><th scope=col>perimeter</th><th scope=col>compactness</th><th scope=col>length</th><th scope=col>width</th><th scope=col>asymmetry</th><th scope=col>groove</th></tr>\n",
       "\t<tr><th scope=col>&lt;dbl&gt;</th><th scope=col>&lt;dbl&gt;</th><th scope=col>&lt;dbl&gt;</th><th scope=col>&lt;dbl&gt;</th><th scope=col>&lt;dbl&gt;</th><th scope=col>&lt;dbl&gt;</th><th scope=col>&lt;dbl&gt;</th></tr>\n",
       "</thead>\n",
       "<tbody>\n",
       "\t<tr><td>11.56</td><td>13.31</td><td>0.8198</td><td>5.363</td><td>2.683</td><td>4.062</td><td>5.182</td></tr>\n",
       "\t<tr><td>14.79</td><td>14.52</td><td>0.8819</td><td>5.545</td><td>3.291</td><td>2.704</td><td>5.111</td></tr>\n",
       "\t<tr><td>10.82</td><td>12.83</td><td>0.8256</td><td>5.180</td><td>2.630</td><td>4.853</td><td>5.089</td></tr>\n",
       "\t<tr><td>13.32</td><td>13.94</td><td>0.8613</td><td>5.541</td><td>3.073</td><td>7.035</td><td>5.440</td></tr>\n",
       "\t<tr><td>11.49</td><td>13.22</td><td>0.8263</td><td>5.304</td><td>2.695</td><td>5.388</td><td>5.310</td></tr>\n",
       "\t<tr><td>10.83</td><td>12.96</td><td>0.8099</td><td>5.278</td><td>2.641</td><td>5.182</td><td>5.185</td></tr>\n",
       "\t<tr><td>15.11</td><td>14.54</td><td>0.8986</td><td>5.579</td><td>3.462</td><td>3.128</td><td>5.180</td></tr>\n",
       "\t<tr><td>11.19</td><td>13.05</td><td>0.8253</td><td>5.250</td><td>2.675</td><td>5.813</td><td>5.219</td></tr>\n",
       "\t<tr><td>12.02</td><td>13.33</td><td>0.8503</td><td>5.350</td><td>2.810</td><td>4.271</td><td>5.308</td></tr>\n",
       "\t<tr><td>17.99</td><td>15.86</td><td>0.8992</td><td>5.890</td><td>3.694</td><td>2.068</td><td>5.837</td></tr>\n",
       "</tbody>\n",
       "</table>\n"
      ],
      "text/latex": [
       "A data.frame: 10 × 7\n",
       "\\begin{tabular}{r|lllllll}\n",
       " area & perimeter & compactness & length & width & asymmetry & groove\\\\\n",
       " <dbl> & <dbl> & <dbl> & <dbl> & <dbl> & <dbl> & <dbl>\\\\\n",
       "\\hline\n",
       "\t 11.56 & 13.31 & 0.8198 & 5.363 & 2.683 & 4.062 & 5.182\\\\\n",
       "\t 14.79 & 14.52 & 0.8819 & 5.545 & 3.291 & 2.704 & 5.111\\\\\n",
       "\t 10.82 & 12.83 & 0.8256 & 5.180 & 2.630 & 4.853 & 5.089\\\\\n",
       "\t 13.32 & 13.94 & 0.8613 & 5.541 & 3.073 & 7.035 & 5.440\\\\\n",
       "\t 11.49 & 13.22 & 0.8263 & 5.304 & 2.695 & 5.388 & 5.310\\\\\n",
       "\t 10.83 & 12.96 & 0.8099 & 5.278 & 2.641 & 5.182 & 5.185\\\\\n",
       "\t 15.11 & 14.54 & 0.8986 & 5.579 & 3.462 & 3.128 & 5.180\\\\\n",
       "\t 11.19 & 13.05 & 0.8253 & 5.250 & 2.675 & 5.813 & 5.219\\\\\n",
       "\t 12.02 & 13.33 & 0.8503 & 5.350 & 2.810 & 4.271 & 5.308\\\\\n",
       "\t 17.99 & 15.86 & 0.8992 & 5.890 & 3.694 & 2.068 & 5.837\\\\\n",
       "\\end{tabular}\n"
      ],
      "text/markdown": [
       "\n",
       "A data.frame: 10 × 7\n",
       "\n",
       "| area &lt;dbl&gt; | perimeter &lt;dbl&gt; | compactness &lt;dbl&gt; | length &lt;dbl&gt; | width &lt;dbl&gt; | asymmetry &lt;dbl&gt; | groove &lt;dbl&gt; |\n",
       "|---|---|---|---|---|---|---|\n",
       "| 11.56 | 13.31 | 0.8198 | 5.363 | 2.683 | 4.062 | 5.182 |\n",
       "| 14.79 | 14.52 | 0.8819 | 5.545 | 3.291 | 2.704 | 5.111 |\n",
       "| 10.82 | 12.83 | 0.8256 | 5.180 | 2.630 | 4.853 | 5.089 |\n",
       "| 13.32 | 13.94 | 0.8613 | 5.541 | 3.073 | 7.035 | 5.440 |\n",
       "| 11.49 | 13.22 | 0.8263 | 5.304 | 2.695 | 5.388 | 5.310 |\n",
       "| 10.83 | 12.96 | 0.8099 | 5.278 | 2.641 | 5.182 | 5.185 |\n",
       "| 15.11 | 14.54 | 0.8986 | 5.579 | 3.462 | 3.128 | 5.180 |\n",
       "| 11.19 | 13.05 | 0.8253 | 5.250 | 2.675 | 5.813 | 5.219 |\n",
       "| 12.02 | 13.33 | 0.8503 | 5.350 | 2.810 | 4.271 | 5.308 |\n",
       "| 17.99 | 15.86 | 0.8992 | 5.890 | 3.694 | 2.068 | 5.837 |\n",
       "\n"
      ],
      "text/plain": [
       "   area  perimeter compactness length width asymmetry groove\n",
       "1  11.56 13.31     0.8198      5.363  2.683 4.062     5.182 \n",
       "2  14.79 14.52     0.8819      5.545  3.291 2.704     5.111 \n",
       "3  10.82 12.83     0.8256      5.180  2.630 4.853     5.089 \n",
       "4  13.32 13.94     0.8613      5.541  3.073 7.035     5.440 \n",
       "5  11.49 13.22     0.8263      5.304  2.695 5.388     5.310 \n",
       "6  10.83 12.96     0.8099      5.278  2.641 5.182     5.185 \n",
       "7  15.11 14.54     0.8986      5.579  3.462 3.128     5.180 \n",
       "8  11.19 13.05     0.8253      5.250  2.675 5.813     5.219 \n",
       "9  12.02 13.33     0.8503      5.350  2.810 4.271     5.308 \n",
       "10 17.99 15.86     0.8992      5.890  3.694 2.068     5.837 "
      ]
     },
     "metadata": {},
     "output_type": "display_data"
    }
   ],
   "source": [
    "## Predicting the new dataset\n",
    "wheatx_new <- read.csv('/public/bmort/R/wheat-unknown.csv')\n",
    "wheatx_new"
   ]
  },
  {
   "cell_type": "code",
   "execution_count": 76,
   "metadata": {},
   "outputs": [
    {
     "data": {
      "text/html": [
       "<ol class=list-inline>\n",
       "\t<li>C</li>\n",
       "\t<li>A</li>\n",
       "\t<li>C</li>\n",
       "\t<li>C</li>\n",
       "\t<li>C</li>\n",
       "\t<li>C</li>\n",
       "\t<li>A</li>\n",
       "\t<li>C</li>\n",
       "\t<li>C</li>\n",
       "\t<li>B</li>\n",
       "</ol>\n",
       "\n",
       "<details>\n",
       "\t<summary style=display:list-item;cursor:pointer>\n",
       "\t\t<strong>Levels</strong>:\n",
       "\t</summary>\n",
       "\t<ol class=list-inline>\n",
       "\t\t<li>'A'</li>\n",
       "\t\t<li>'B'</li>\n",
       "\t\t<li>'C'</li>\n",
       "\t</ol>\n",
       "</details>"
      ],
      "text/latex": [
       "\\begin{enumerate*}\n",
       "\\item C\n",
       "\\item A\n",
       "\\item C\n",
       "\\item C\n",
       "\\item C\n",
       "\\item C\n",
       "\\item A\n",
       "\\item C\n",
       "\\item C\n",
       "\\item B\n",
       "\\end{enumerate*}\n",
       "\n",
       "\\emph{Levels}: \\begin{enumerate*}\n",
       "\\item 'A'\n",
       "\\item 'B'\n",
       "\\item 'C'\n",
       "\\end{enumerate*}\n"
      ],
      "text/markdown": [
       "1. C\n",
       "2. A\n",
       "3. C\n",
       "4. C\n",
       "5. C\n",
       "6. C\n",
       "7. A\n",
       "8. C\n",
       "9. C\n",
       "10. B\n",
       "\n",
       "\n",
       "\n",
       "**Levels**: 1. 'A'\n",
       "2. 'B'\n",
       "3. 'C'\n",
       "\n",
       "\n"
      ],
      "text/plain": [
       " [1] C A C C C C A C C B\n",
       "Levels: A B C"
      ]
     },
     "metadata": {},
     "output_type": "display_data"
    }
   ],
   "source": [
    "## Prediction\n",
    "pred_new <- predict(f_model, as.matrix(wheatx_new))\n",
    "pred_new[(pred_new > 3)] =3\n",
    "predy_new <- as.factor((levels(test_y))[round(pred_new)])\n",
    "predy_new"
   ]
  },
  {
   "cell_type": "markdown",
   "metadata": {},
   "source": [
    "**Comparing the SVM model and the XGBoost model**\n",
    "\n",
    "- Both models have a 90% + accuracy rate.\n",
    "- Also, both tend to give the same predicitions for our new unlabeled dataset [C,A,C, C, C, C, A, C, C, B]\n",
    "- Therefore any of these two models can be used to make predictions. \n",
    "- But looking at the complex nature of the XGBoost model, the SVM should be used because it is easy to implement and takes a short time to run.\n"
   ]
  }
 ],
 "metadata": {
  "kernelspec": {
   "display_name": "R 3.6.1",
   "language": "R",
   "name": "r-3.6.1"
  },
  "language_info": {
   "codemirror_mode": "r",
   "file_extension": ".r",
   "mimetype": "text/x-r-source",
   "name": "R",
   "pygments_lexer": "r",
   "version": "3.6.1"
  }
 },
 "nbformat": 4,
 "nbformat_minor": 2
}
