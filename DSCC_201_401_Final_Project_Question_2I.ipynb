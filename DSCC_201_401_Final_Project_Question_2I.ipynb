{
 "cells": [
  {
   "cell_type": "markdown",
   "metadata": {},
   "source": [
    "**Use PyTorch (by switching to a different kernel) to build a simple fully-connected artificial neural network for the beans classification based on the chosen features provided in the data. Generate a confusion matrix for the test data set to demonstrate the accuracy of the model. Based on your model, classify the beans provided in the unlabeled beans-unknown.csv data set. Indicate which classification has been assigned to each of the unlabeled beans. How do the results with the artificial neural network compare to the support vector machine model?**"
   ]
  },
  {
   "cell_type": "code",
   "execution_count": 62,
   "metadata": {},
   "outputs": [],
   "source": [
    "import numpy as np\n",
    "import pandas as pd\n",
    "from sklearn.preprocessing import MinMaxScaler\n",
    "from sklearn.preprocessing import LabelEncoder\n",
    "from sklearn.model_selection import train_test_split\n",
    "import torch\n",
    "import torch.nn as nn \n",
    "from sklearn.metrics import confusion_matrix\n",
    "from sklearn import svm"
   ]
  },
  {
   "cell_type": "code",
   "execution_count": 36,
   "metadata": {},
   "outputs": [
    {
     "data": {
      "text/html": [
       "<div>\n",
       "<style scoped>\n",
       "    .dataframe tbody tr th:only-of-type {\n",
       "        vertical-align: middle;\n",
       "    }\n",
       "\n",
       "    .dataframe tbody tr th {\n",
       "        vertical-align: top;\n",
       "    }\n",
       "\n",
       "    .dataframe thead th {\n",
       "        text-align: right;\n",
       "    }\n",
       "</style>\n",
       "<table border=\"1\" class=\"dataframe\">\n",
       "  <thead>\n",
       "    <tr style=\"text-align: right;\">\n",
       "      <th></th>\n",
       "      <th>Area</th>\n",
       "      <th>AspectRatio</th>\n",
       "      <th>Extent</th>\n",
       "      <th>Solidity</th>\n",
       "      <th>roundness</th>\n",
       "      <th>ShapeFactor4</th>\n",
       "      <th>Class</th>\n",
       "    </tr>\n",
       "  </thead>\n",
       "  <tbody>\n",
       "    <tr>\n",
       "      <th>0</th>\n",
       "      <td>28395</td>\n",
       "      <td>1.197191</td>\n",
       "      <td>0.763923</td>\n",
       "      <td>0.988856</td>\n",
       "      <td>0.958027</td>\n",
       "      <td>0.998724</td>\n",
       "      <td>SEKER</td>\n",
       "    </tr>\n",
       "    <tr>\n",
       "      <th>1</th>\n",
       "      <td>28734</td>\n",
       "      <td>1.097356</td>\n",
       "      <td>0.783968</td>\n",
       "      <td>0.984986</td>\n",
       "      <td>0.887034</td>\n",
       "      <td>0.998430</td>\n",
       "      <td>SEKER</td>\n",
       "    </tr>\n",
       "    <tr>\n",
       "      <th>2</th>\n",
       "      <td>29380</td>\n",
       "      <td>1.209713</td>\n",
       "      <td>0.778113</td>\n",
       "      <td>0.989559</td>\n",
       "      <td>0.947849</td>\n",
       "      <td>0.999066</td>\n",
       "      <td>SEKER</td>\n",
       "    </tr>\n",
       "    <tr>\n",
       "      <th>3</th>\n",
       "      <td>30008</td>\n",
       "      <td>1.153638</td>\n",
       "      <td>0.782681</td>\n",
       "      <td>0.976696</td>\n",
       "      <td>0.903936</td>\n",
       "      <td>0.994199</td>\n",
       "      <td>SEKER</td>\n",
       "    </tr>\n",
       "    <tr>\n",
       "      <th>4</th>\n",
       "      <td>30140</td>\n",
       "      <td>1.060798</td>\n",
       "      <td>0.773098</td>\n",
       "      <td>0.990893</td>\n",
       "      <td>0.984877</td>\n",
       "      <td>0.999166</td>\n",
       "      <td>SEKER</td>\n",
       "    </tr>\n",
       "  </tbody>\n",
       "</table>\n",
       "</div>"
      ],
      "text/plain": [
       "    Area  AspectRatio    Extent  Solidity  roundness  ShapeFactor4  Class\n",
       "0  28395     1.197191  0.763923  0.988856   0.958027      0.998724  SEKER\n",
       "1  28734     1.097356  0.783968  0.984986   0.887034      0.998430  SEKER\n",
       "2  29380     1.209713  0.778113  0.989559   0.947849      0.999066  SEKER\n",
       "3  30008     1.153638  0.782681  0.976696   0.903936      0.994199  SEKER\n",
       "4  30140     1.060798  0.773098  0.990893   0.984877      0.999166  SEKER"
      ]
     },
     "execution_count": 36,
     "metadata": {},
     "output_type": "execute_result"
    }
   ],
   "source": [
    "## Loading the dataset\n",
    "bean = pd.read_csv('/public/bmort/python/beans.csv')\n",
    "bean = bean[['Area', 'AspectRatio','Extent','Solidity', 'roundness','ShapeFactor4','Class']]\n",
    "bean.head()"
   ]
  },
  {
   "cell_type": "code",
   "execution_count": 37,
   "metadata": {},
   "outputs": [
    {
     "data": {
      "text/html": [
       "<div>\n",
       "<style scoped>\n",
       "    .dataframe tbody tr th:only-of-type {\n",
       "        vertical-align: middle;\n",
       "    }\n",
       "\n",
       "    .dataframe tbody tr th {\n",
       "        vertical-align: top;\n",
       "    }\n",
       "\n",
       "    .dataframe thead th {\n",
       "        text-align: right;\n",
       "    }\n",
       "</style>\n",
       "<table border=\"1\" class=\"dataframe\">\n",
       "  <thead>\n",
       "    <tr style=\"text-align: right;\">\n",
       "      <th></th>\n",
       "      <th>Area</th>\n",
       "      <th>AspectRatio</th>\n",
       "      <th>Extent</th>\n",
       "      <th>Solidity</th>\n",
       "      <th>roundness</th>\n",
       "      <th>ShapeFactor4</th>\n",
       "    </tr>\n",
       "  </thead>\n",
       "  <tbody>\n",
       "    <tr>\n",
       "      <th>0</th>\n",
       "      <td>0.034053</td>\n",
       "      <td>0.122612</td>\n",
       "      <td>0.671024</td>\n",
       "      <td>0.922824</td>\n",
       "      <td>0.934823</td>\n",
       "      <td>0.980620</td>\n",
       "    </tr>\n",
       "    <tr>\n",
       "      <th>1</th>\n",
       "      <td>0.035500</td>\n",
       "      <td>0.051577</td>\n",
       "      <td>0.735504</td>\n",
       "      <td>0.871514</td>\n",
       "      <td>0.793138</td>\n",
       "      <td>0.974979</td>\n",
       "    </tr>\n",
       "    <tr>\n",
       "      <th>2</th>\n",
       "      <td>0.038259</td>\n",
       "      <td>0.131521</td>\n",
       "      <td>0.716671</td>\n",
       "      <td>0.932141</td>\n",
       "      <td>0.914511</td>\n",
       "      <td>0.987196</td>\n",
       "    </tr>\n",
       "    <tr>\n",
       "      <th>3</th>\n",
       "      <td>0.040940</td>\n",
       "      <td>0.091623</td>\n",
       "      <td>0.731365</td>\n",
       "      <td>0.761614</td>\n",
       "      <td>0.826871</td>\n",
       "      <td>0.893675</td>\n",
       "    </tr>\n",
       "    <tr>\n",
       "      <th>4</th>\n",
       "      <td>0.041504</td>\n",
       "      <td>0.025565</td>\n",
       "      <td>0.700538</td>\n",
       "      <td>0.949832</td>\n",
       "      <td>0.988408</td>\n",
       "      <td>0.989116</td>\n",
       "    </tr>\n",
       "  </tbody>\n",
       "</table>\n",
       "</div>"
      ],
      "text/plain": [
       "       Area  AspectRatio    Extent  Solidity  roundness  ShapeFactor4\n",
       "0  0.034053     0.122612  0.671024  0.922824   0.934823      0.980620\n",
       "1  0.035500     0.051577  0.735504  0.871514   0.793138      0.974979\n",
       "2  0.038259     0.131521  0.716671  0.932141   0.914511      0.987196\n",
       "3  0.040940     0.091623  0.731365  0.761614   0.826871      0.893675\n",
       "4  0.041504     0.025565  0.700538  0.949832   0.988408      0.989116"
      ]
     },
     "execution_count": 37,
     "metadata": {},
     "output_type": "execute_result"
    }
   ],
   "source": [
    "## Using the MinMaxScaler model to tranform the the selected columns\n",
    "# create a scaler object\n",
    "features_names = bean[['Area', 'AspectRatio', 'Extent', 'Solidity','roundness','ShapeFactor4']]\n",
    "scaler = MinMaxScaler()\n",
    "\n",
    "# fit and transform the data\n",
    "scaled = pd.DataFrame(scaler.fit_transform(features_names), \n",
    "                       columns=features_names.columns)\n",
    "\n",
    "scaled.head()"
   ]
  },
  {
   "cell_type": "code",
   "execution_count": 38,
   "metadata": {},
   "outputs": [
    {
     "data": {
      "text/html": [
       "<div>\n",
       "<style scoped>\n",
       "    .dataframe tbody tr th:only-of-type {\n",
       "        vertical-align: middle;\n",
       "    }\n",
       "\n",
       "    .dataframe tbody tr th {\n",
       "        vertical-align: top;\n",
       "    }\n",
       "\n",
       "    .dataframe thead th {\n",
       "        text-align: right;\n",
       "    }\n",
       "</style>\n",
       "<table border=\"1\" class=\"dataframe\">\n",
       "  <thead>\n",
       "    <tr style=\"text-align: right;\">\n",
       "      <th></th>\n",
       "      <th>Area</th>\n",
       "      <th>AspectRatio</th>\n",
       "      <th>Extent</th>\n",
       "      <th>Solidity</th>\n",
       "      <th>roundness</th>\n",
       "      <th>ShapeFactor4</th>\n",
       "      <th>Class</th>\n",
       "    </tr>\n",
       "  </thead>\n",
       "  <tbody>\n",
       "    <tr>\n",
       "      <th>0</th>\n",
       "      <td>0.034053</td>\n",
       "      <td>0.122612</td>\n",
       "      <td>0.671024</td>\n",
       "      <td>0.922824</td>\n",
       "      <td>0.934823</td>\n",
       "      <td>0.980620</td>\n",
       "      <td>SEKER</td>\n",
       "    </tr>\n",
       "    <tr>\n",
       "      <th>1</th>\n",
       "      <td>0.035500</td>\n",
       "      <td>0.051577</td>\n",
       "      <td>0.735504</td>\n",
       "      <td>0.871514</td>\n",
       "      <td>0.793138</td>\n",
       "      <td>0.974979</td>\n",
       "      <td>SEKER</td>\n",
       "    </tr>\n",
       "    <tr>\n",
       "      <th>2</th>\n",
       "      <td>0.038259</td>\n",
       "      <td>0.131521</td>\n",
       "      <td>0.716671</td>\n",
       "      <td>0.932141</td>\n",
       "      <td>0.914511</td>\n",
       "      <td>0.987196</td>\n",
       "      <td>SEKER</td>\n",
       "    </tr>\n",
       "    <tr>\n",
       "      <th>3</th>\n",
       "      <td>0.040940</td>\n",
       "      <td>0.091623</td>\n",
       "      <td>0.731365</td>\n",
       "      <td>0.761614</td>\n",
       "      <td>0.826871</td>\n",
       "      <td>0.893675</td>\n",
       "      <td>SEKER</td>\n",
       "    </tr>\n",
       "    <tr>\n",
       "      <th>4</th>\n",
       "      <td>0.041504</td>\n",
       "      <td>0.025565</td>\n",
       "      <td>0.700538</td>\n",
       "      <td>0.949832</td>\n",
       "      <td>0.988408</td>\n",
       "      <td>0.989116</td>\n",
       "      <td>SEKER</td>\n",
       "    </tr>\n",
       "  </tbody>\n",
       "</table>\n",
       "</div>"
      ],
      "text/plain": [
       "       Area  AspectRatio    Extent  Solidity  roundness  ShapeFactor4  Class\n",
       "0  0.034053     0.122612  0.671024  0.922824   0.934823      0.980620  SEKER\n",
       "1  0.035500     0.051577  0.735504  0.871514   0.793138      0.974979  SEKER\n",
       "2  0.038259     0.131521  0.716671  0.932141   0.914511      0.987196  SEKER\n",
       "3  0.040940     0.091623  0.731365  0.761614   0.826871      0.893675  SEKER\n",
       "4  0.041504     0.025565  0.700538  0.949832   0.988408      0.989116  SEKER"
      ]
     },
     "execution_count": 38,
     "metadata": {},
     "output_type": "execute_result"
    }
   ],
   "source": [
    "## Replacing the transformed columns into the main data\n",
    "bean[['Area', 'AspectRatio', 'Extent', 'Solidity','roundness','ShapeFactor4']] = scaled[['Area', 'AspectRatio', 'Extent', \n",
    "                                                                                'Solidity','roundness','ShapeFactor4']]\n",
    "bean.head()"
   ]
  },
  {
   "cell_type": "code",
   "execution_count": 39,
   "metadata": {},
   "outputs": [],
   "source": [
    "## Replacing the class columns with labels\n",
    "l_eco = LabelEncoder()\n",
    "l_eco.fit(bean['Class'])\n",
    "bean['Class'] = l_eco.transform(bean['Class'])"
   ]
  },
  {
   "cell_type": "code",
   "execution_count": null,
   "metadata": {},
   "outputs": [],
   "source": []
  },
  {
   "cell_type": "code",
   "execution_count": 40,
   "metadata": {},
   "outputs": [],
   "source": [
    "## Splitting the data into the predictors and target varible\n",
    "X = bean[['Area', 'AspectRatio','Extent','Solidity','roundness','ShapeFactor4']].to_numpy()"
   ]
  },
  {
   "cell_type": "code",
   "execution_count": 41,
   "metadata": {},
   "outputs": [
    {
     "data": {
      "text/plain": [
       "array([[0.03405267, 0.12261211, 0.67102371, 0.92282385, 0.93482256,\n",
       "        0.98061988],\n",
       "       [0.03550018, 0.05157739, 0.73550396, 0.87151366, 0.79313798,\n",
       "        0.97497943],\n",
       "       [0.03825855, 0.13152124, 0.71667069, 0.9321406 , 0.9145106 ,\n",
       "        0.98719586],\n",
       "       ...,\n",
       "       [0.09273856, 0.31855826, 0.56168866, 0.93664773, 0.85578518,\n",
       "        0.9430251 ],\n",
       "       [0.09277272, 0.33047232, 0.48274074, 0.90899135, 0.83479471,\n",
       "        0.91334232],\n",
       "       [0.09282396, 0.42333667, 0.75156921, 0.93332197, 0.7958257 ,\n",
       "        0.9701623 ]])"
      ]
     },
     "execution_count": 41,
     "metadata": {},
     "output_type": "execute_result"
    }
   ],
   "source": [
    "X"
   ]
  },
  {
   "cell_type": "code",
   "execution_count": 42,
   "metadata": {},
   "outputs": [],
   "source": [
    "y = bean['Class'].to_numpy()"
   ]
  },
  {
   "cell_type": "code",
   "execution_count": 43,
   "metadata": {},
   "outputs": [],
   "source": [
    "## Train and test data \n",
    "X_train, X_test, y_train, y_test = train_test_split(X, y, test_size= 0.2)"
   ]
  },
  {
   "cell_type": "code",
   "execution_count": 44,
   "metadata": {},
   "outputs": [],
   "source": [
    "# input layer nodes = 6 = number of features\n",
    "# hidden layer nodes = 3 \n",
    "# output layer nodes = 6 = number of categories\n",
    "iln = 6\n",
    "hln = 10\n",
    "oln = 7\n",
    "l_r = 0.01\n",
    "num_epoch = 100000"
   ]
  },
  {
   "cell_type": "code",
   "execution_count": 45,
   "metadata": {},
   "outputs": [],
   "source": [
    "## fully connected\n",
    "class NNetwork(nn.Module):\n",
    "    def __init__(self):\n",
    "        super(NNetwork, self).__init__()\n",
    "        self.fc1 = nn.Linear(iln, hln)\n",
    "        self.out = nn.Linear(hln, oln)\n",
    "    def forward(self, x):\n",
    "        x = self.fc1(x)\n",
    "        x = nn.functional.relu(x)\n",
    "        x = self.out(x)\n",
    "        out = nn.functional.softmax(x, dim = 1)\n",
    "        return out"
   ]
  },
  {
   "cell_type": "code",
   "execution_count": 46,
   "metadata": {},
   "outputs": [],
   "source": [
    "## Setting up the classifer \n",
    "classifier = NNetwork()"
   ]
  },
  {
   "cell_type": "code",
   "execution_count": 47,
   "metadata": {},
   "outputs": [],
   "source": [
    "## Defining loss function and optimizers\n",
    "criterion = nn.CrossEntropyLoss()\n",
    "optimizer = torch.optim.SGD(classifier.parameters(), lr=l_r )"
   ]
  },
  {
   "cell_type": "code",
   "execution_count": 48,
   "metadata": {},
   "outputs": [],
   "source": [
    "X_torch = torch.Tensor(X_train).float()\n",
    "y_torch = torch.Tensor(y_train).long()\n",
    "# X_torch\n",
    "# y_torch.unique()"
   ]
  },
  {
   "cell_type": "code",
   "execution_count": 49,
   "metadata": {},
   "outputs": [
    {
     "name": "stdout",
     "output_type": "stream",
     "text": [
      "epoch: 0 loss: 1.9462968111038208\n",
      "epoch: 1000 loss: 1.925895094871521\n",
      "epoch: 2000 loss: 1.8966991901397705\n",
      "epoch: 3000 loss: 1.8864113092422485\n",
      "epoch: 4000 loss: 1.883758544921875\n",
      "epoch: 5000 loss: 1.881467580795288\n",
      "epoch: 6000 loss: 1.8793209791183472\n",
      "epoch: 7000 loss: 1.8774968385696411\n",
      "epoch: 8000 loss: 1.8759421110153198\n",
      "epoch: 9000 loss: 1.8744826316833496\n",
      "epoch: 10000 loss: 1.8729615211486816\n",
      "epoch: 11000 loss: 1.8712364435195923\n",
      "epoch: 12000 loss: 1.8691270351409912\n",
      "epoch: 13000 loss: 1.866313099861145\n",
      "epoch: 14000 loss: 1.8620822429656982\n",
      "epoch: 15000 loss: 1.8547999858856201\n",
      "epoch: 16000 loss: 1.84213387966156\n",
      "epoch: 17000 loss: 1.8248512744903564\n",
      "epoch: 18000 loss: 1.807938814163208\n",
      "epoch: 19000 loss: 1.7948945760726929\n",
      "epoch: 20000 loss: 1.7857009172439575\n",
      "epoch: 21000 loss: 1.7790424823760986\n",
      "epoch: 22000 loss: 1.7736531496047974\n",
      "epoch: 23000 loss: 1.7685465812683105\n",
      "epoch: 24000 loss: 1.7633264064788818\n",
      "epoch: 25000 loss: 1.7584114074707031\n",
      "epoch: 26000 loss: 1.7540169954299927\n",
      "epoch: 27000 loss: 1.7500808238983154\n",
      "epoch: 28000 loss: 1.7465323209762573\n",
      "epoch: 29000 loss: 1.7432997226715088\n",
      "epoch: 30000 loss: 1.7403144836425781\n",
      "epoch: 31000 loss: 1.7375150918960571\n",
      "epoch: 32000 loss: 1.734842300415039\n",
      "epoch: 33000 loss: 1.7322324514389038\n",
      "epoch: 34000 loss: 1.7296018600463867\n",
      "epoch: 35000 loss: 1.726828932762146\n",
      "epoch: 36000 loss: 1.7237623929977417\n",
      "epoch: 37000 loss: 1.7203843593597412\n",
      "epoch: 38000 loss: 1.7170002460479736\n",
      "epoch: 39000 loss: 1.7137846946716309\n",
      "epoch: 40000 loss: 1.7106521129608154\n",
      "epoch: 41000 loss: 1.70755934715271\n",
      "epoch: 42000 loss: 1.70449960231781\n",
      "epoch: 43000 loss: 1.7014691829681396\n",
      "epoch: 44000 loss: 1.6984648704528809\n",
      "epoch: 45000 loss: 1.695483684539795\n",
      "epoch: 46000 loss: 1.692525029182434\n",
      "epoch: 47000 loss: 1.6895869970321655\n",
      "epoch: 48000 loss: 1.6866706609725952\n",
      "epoch: 49000 loss: 1.6837763786315918\n",
      "epoch: 50000 loss: 1.6809048652648926\n",
      "epoch: 51000 loss: 1.6780563592910767\n",
      "epoch: 52000 loss: 1.6752299070358276\n",
      "epoch: 53000 loss: 1.6724274158477783\n",
      "epoch: 54000 loss: 1.6696488857269287\n",
      "epoch: 55000 loss: 1.6668895483016968\n",
      "epoch: 56000 loss: 1.6641532182693481\n",
      "epoch: 57000 loss: 1.6614363193511963\n",
      "epoch: 58000 loss: 1.6587368249893188\n",
      "epoch: 59000 loss: 1.656058430671692\n",
      "epoch: 60000 loss: 1.6534103155136108\n",
      "epoch: 61000 loss: 1.6507971286773682\n",
      "epoch: 62000 loss: 1.6482312679290771\n",
      "epoch: 63000 loss: 1.6457221508026123\n",
      "epoch: 64000 loss: 1.6432819366455078\n",
      "epoch: 65000 loss: 1.6409032344818115\n",
      "epoch: 66000 loss: 1.6385836601257324\n",
      "epoch: 67000 loss: 1.6363210678100586\n",
      "epoch: 68000 loss: 1.6341071128845215\n",
      "epoch: 69000 loss: 1.631937861442566\n",
      "epoch: 70000 loss: 1.629806637763977\n",
      "epoch: 71000 loss: 1.6277104616165161\n",
      "epoch: 72000 loss: 1.6256434917449951\n",
      "epoch: 73000 loss: 1.6236003637313843\n",
      "epoch: 74000 loss: 1.621577262878418\n",
      "epoch: 75000 loss: 1.619568943977356\n",
      "epoch: 76000 loss: 1.6175792217254639\n",
      "epoch: 77000 loss: 1.615607500076294\n",
      "epoch: 78000 loss: 1.6136534214019775\n",
      "epoch: 79000 loss: 1.6117160320281982\n",
      "epoch: 80000 loss: 1.609796404838562\n",
      "epoch: 81000 loss: 1.6078932285308838\n",
      "epoch: 82000 loss: 1.606009840965271\n",
      "epoch: 83000 loss: 1.6041470766067505\n",
      "epoch: 84000 loss: 1.6023049354553223\n",
      "epoch: 85000 loss: 1.6004807949066162\n",
      "epoch: 86000 loss: 1.5986775159835815\n",
      "epoch: 87000 loss: 1.5968947410583496\n",
      "epoch: 88000 loss: 1.5951292514801025\n",
      "epoch: 89000 loss: 1.5933809280395508\n",
      "epoch: 90000 loss: 1.5916491746902466\n",
      "epoch: 91000 loss: 1.589935064315796\n",
      "epoch: 92000 loss: 1.5882388353347778\n",
      "epoch: 93000 loss: 1.5865586996078491\n",
      "epoch: 94000 loss: 1.584896206855774\n",
      "epoch: 95000 loss: 1.583250641822815\n",
      "epoch: 96000 loss: 1.581620454788208\n",
      "epoch: 97000 loss: 1.580006718635559\n",
      "epoch: 98000 loss: 1.5784075260162354\n",
      "epoch: 99000 loss: 1.576823115348816\n"
     ]
    }
   ],
   "source": [
    "## Training our data\n",
    "for epoch in range(num_epoch):\n",
    "    optimizer.zero_grad()\n",
    "    output = classifier(X_torch)\n",
    "    loss = criterion(output, y_torch)\n",
    "    loss.backward()\n",
    "    optimizer.step()\n",
    "    if epoch % 1000 == 0:\n",
    "        print('epoch:', epoch, 'loss:', loss.item())"
   ]
  },
  {
   "cell_type": "code",
   "execution_count": 50,
   "metadata": {},
   "outputs": [],
   "source": [
    "X_ttest = torch.Tensor(X_test).float()\n",
    "y_ttest = torch.Tensor(y_test).long()"
   ]
  },
  {
   "cell_type": "code",
   "execution_count": 51,
   "metadata": {},
   "outputs": [],
   "source": [
    "f_output = classifier(X_ttest)"
   ]
  },
  {
   "cell_type": "code",
   "execution_count": 52,
   "metadata": {},
   "outputs": [],
   "source": [
    "bean_new = pd.read_csv('/public/bmort/python/beans-unknown.csv')"
   ]
  },
  {
   "cell_type": "code",
   "execution_count": 53,
   "metadata": {},
   "outputs": [],
   "source": [
    "(values, pred) = torch.max(f_output.data, dim = 1 )"
   ]
  },
  {
   "cell_type": "code",
   "execution_count": 54,
   "metadata": {},
   "outputs": [
    {
     "data": {
      "text/plain": [
       "tensor([6, 2, 3,  ..., 3, 3, 4])"
      ]
     },
     "execution_count": 54,
     "metadata": {},
     "output_type": "execute_result"
    }
   ],
   "source": [
    "pred"
   ]
  },
  {
   "cell_type": "code",
   "execution_count": 55,
   "metadata": {},
   "outputs": [
    {
     "name": "stdout",
     "output_type": "stream",
     "text": [
      "The Accuracy of the model is 62.68932342529297%\n"
     ]
    }
   ],
   "source": [
    "print(f'The Accuracy of the model is {(torch.sum(y_ttest==pred)/len(y_ttest))*100}%')"
   ]
  },
  {
   "cell_type": "code",
   "execution_count": 56,
   "metadata": {},
   "outputs": [
    {
     "data": {
      "text/plain": [
       "array([[  0,   0, 180,   1,  11,   0,  89],\n",
       "       [  0,   0, 117,   0,   0,   0,   0],\n",
       "       [  0,   0, 313,   2,   7,   0,  14],\n",
       "       [  0,   0,   0, 609,   2,   0,  65],\n",
       "       [  0,   0,  19,   1, 374,   0,   3],\n",
       "       [  0,   0,   0, 375,   0,   0,  14],\n",
       "       [  0,   0,   6,  99,   5,   0, 401]])"
      ]
     },
     "execution_count": 56,
     "metadata": {},
     "output_type": "execute_result"
    }
   ],
   "source": [
    "confusion_matrix(y_ttest, pred)"
   ]
  },
  {
   "cell_type": "code",
   "execution_count": 71,
   "metadata": {},
   "outputs": [],
   "source": [
    "new_data = pd.read_csv('/public/bmort/python/beans-unknown.csv')[['Area', 'AspectRatio', 'Extent', 'Solidity','roundness','ShapeFactor4']]"
   ]
  },
  {
   "cell_type": "code",
   "execution_count": 72,
   "metadata": {},
   "outputs": [
    {
     "data": {
      "text/html": [
       "<div>\n",
       "<style scoped>\n",
       "    .dataframe tbody tr th:only-of-type {\n",
       "        vertical-align: middle;\n",
       "    }\n",
       "\n",
       "    .dataframe tbody tr th {\n",
       "        vertical-align: top;\n",
       "    }\n",
       "\n",
       "    .dataframe thead th {\n",
       "        text-align: right;\n",
       "    }\n",
       "</style>\n",
       "<table border=\"1\" class=\"dataframe\">\n",
       "  <thead>\n",
       "    <tr style=\"text-align: right;\">\n",
       "      <th></th>\n",
       "      <th>Area</th>\n",
       "      <th>AspectRatio</th>\n",
       "      <th>Extent</th>\n",
       "      <th>Solidity</th>\n",
       "      <th>roundness</th>\n",
       "      <th>ShapeFactor4</th>\n",
       "    </tr>\n",
       "  </thead>\n",
       "  <tbody>\n",
       "    <tr>\n",
       "      <th>0</th>\n",
       "      <td>37500</td>\n",
       "      <td>1.586948</td>\n",
       "      <td>0.703406</td>\n",
       "      <td>0.988299</td>\n",
       "      <td>0.888690</td>\n",
       "      <td>0.995836</td>\n",
       "    </tr>\n",
       "    <tr>\n",
       "      <th>1</th>\n",
       "      <td>37500</td>\n",
       "      <td>1.549351</td>\n",
       "      <td>0.786229</td>\n",
       "      <td>0.992142</td>\n",
       "      <td>0.920295</td>\n",
       "      <td>0.998631</td>\n",
       "    </tr>\n",
       "    <tr>\n",
       "      <th>2</th>\n",
       "      <td>37511</td>\n",
       "      <td>1.490660</td>\n",
       "      <td>0.717365</td>\n",
       "      <td>0.990573</td>\n",
       "      <td>0.913474</td>\n",
       "      <td>0.998379</td>\n",
       "    </tr>\n",
       "    <tr>\n",
       "      <th>3</th>\n",
       "      <td>37513</td>\n",
       "      <td>1.518721</td>\n",
       "      <td>0.780545</td>\n",
       "      <td>0.987678</td>\n",
       "      <td>0.909270</td>\n",
       "      <td>0.998076</td>\n",
       "    </tr>\n",
       "    <tr>\n",
       "      <th>4</th>\n",
       "      <td>37514</td>\n",
       "      <td>1.521158</td>\n",
       "      <td>0.793309</td>\n",
       "      <td>0.989293</td>\n",
       "      <td>0.894773</td>\n",
       "      <td>0.997545</td>\n",
       "    </tr>\n",
       "  </tbody>\n",
       "</table>\n",
       "</div>"
      ],
      "text/plain": [
       "    Area  AspectRatio    Extent  Solidity  roundness  ShapeFactor4\n",
       "0  37500     1.586948  0.703406  0.988299   0.888690      0.995836\n",
       "1  37500     1.549351  0.786229  0.992142   0.920295      0.998631\n",
       "2  37511     1.490660  0.717365  0.990573   0.913474      0.998379\n",
       "3  37513     1.518721  0.780545  0.987678   0.909270      0.998076\n",
       "4  37514     1.521158  0.793309  0.989293   0.894773      0.997545"
      ]
     },
     "execution_count": 72,
     "metadata": {},
     "output_type": "execute_result"
    }
   ],
   "source": [
    "new_data"
   ]
  },
  {
   "cell_type": "code",
   "execution_count": 90,
   "metadata": {},
   "outputs": [],
   "source": [
    "X_newd = torch.tensor(new_data.to_numpy()).float()"
   ]
  },
  {
   "cell_type": "code",
   "execution_count": 92,
   "metadata": {},
   "outputs": [
    {
     "data": {
      "text/plain": [
       "tensor([[0., 0., 1., 0., 0., 0., 0.],\n",
       "        [0., 0., 1., 0., 0., 0., 0.],\n",
       "        [0., 0., 1., 0., 0., 0., 0.],\n",
       "        [0., 0., 1., 0., 0., 0., 0.],\n",
       "        [0., 0., 1., 0., 0., 0., 0.]], grad_fn=<SoftmaxBackward>)"
      ]
     },
     "execution_count": 92,
     "metadata": {},
     "output_type": "execute_result"
    }
   ],
   "source": [
    "## Predicting the new dataset\n",
    "classifier(X_newd)"
   ]
  },
  {
   "cell_type": "markdown",
   "metadata": {},
   "source": [
    "## Fitting the SVM model"
   ]
  },
  {
   "cell_type": "code",
   "execution_count": 77,
   "metadata": {},
   "outputs": [
    {
     "data": {
      "text/plain": [
       "SVC(kernel='linear')"
      ]
     },
     "execution_count": 77,
     "metadata": {},
     "output_type": "execute_result"
    }
   ],
   "source": [
    "# Creating an SVM classifier with a linear kernel\n",
    "svm_clf = svm.SVC(kernel='linear')\n",
    "\n",
    "##training the model\n",
    "svm_clf.fit(X_train,y_train)"
   ]
  },
  {
   "cell_type": "code",
   "execution_count": 78,
   "metadata": {},
   "outputs": [
    {
     "data": {
      "text/plain": [
       "array([6, 1, 3, ..., 3, 5, 4])"
      ]
     },
     "execution_count": 78,
     "metadata": {},
     "output_type": "execute_result"
    }
   ],
   "source": [
    "svm_clf.predict(X_test)"
   ]
  },
  {
   "cell_type": "code",
   "execution_count": 83,
   "metadata": {},
   "outputs": [
    {
     "data": {
      "text/plain": [
       "0.9133968816965935"
      ]
     },
     "execution_count": 83,
     "metadata": {},
     "output_type": "execute_result"
    }
   ],
   "source": [
    "svm_clf.score(X,y)"
   ]
  },
  {
   "cell_type": "code",
   "execution_count": 85,
   "metadata": {},
   "outputs": [
    {
     "name": "stdout",
     "output_type": "stream",
     "text": [
      "The accuracy for the SVM model is 91.34%\n"
     ]
    }
   ],
   "source": [
    "print(f'The accuracy for the SVM model is {round(svm_clf.score(X,y),4)*100}%')"
   ]
  },
  {
   "cell_type": "code",
   "execution_count": 80,
   "metadata": {},
   "outputs": [],
   "source": [
    "## Predicting the new model\n",
    "X_new = new_data.to_numpy()"
   ]
  },
  {
   "cell_type": "code",
   "execution_count": 86,
   "metadata": {},
   "outputs": [
    {
     "data": {
      "text/plain": [
       "array([1, 1, 1, 1, 1])"
      ]
     },
     "execution_count": 86,
     "metadata": {},
     "output_type": "execute_result"
    }
   ],
   "source": [
    "## Prediciting the new dataset\n",
    "svm_clf.predict(X_new)"
   ]
  },
  {
   "cell_type": "markdown",
   "metadata": {},
   "source": [
    "**Comparing the two models, we can see that the SVM model has a higher accuracy than the neural network model and therefore can guarantee us accurate classifications of objects into their actual groups.**"
   ]
  },
  {
   "cell_type": "code",
   "execution_count": null,
   "metadata": {},
   "outputs": [],
   "source": []
  }
 ],
 "metadata": {
  "kernelspec": {
   "display_name": "Python 3 (PyTorch 1.9.1)",
   "language": "python",
   "name": "pytorch-1.9.1"
  },
  "language_info": {
   "codemirror_mode": {
    "name": "ipython",
    "version": 3
   },
   "file_extension": ".py",
   "mimetype": "text/x-python",
   "name": "python",
   "nbconvert_exporter": "python",
   "pygments_lexer": "ipython3",
   "version": "3.9.7"
  }
 },
 "nbformat": 4,
 "nbformat_minor": 2
}
