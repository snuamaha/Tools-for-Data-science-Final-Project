{
 "cells": [
  {
   "cell_type": "markdown",
   "metadata": {},
   "source": [
    "# QUESTION 3"
   ]
  },
  {
   "cell_type": "markdown",
   "metadata": {},
   "source": [
    "**A. Using R, load the /public/bmort/R/wheat.csv data set into a data frame.\n",
    "Are there any missing values? Perform any necessary data imputation on the data\n",
    "set**"
   ]
  },
  {
   "cell_type": "code",
   "execution_count": 10,
   "metadata": {},
   "outputs": [
    {
     "data": {
      "text/html": [
       "<table>\n",
       "<caption>A data.frame: 10 × 8</caption>\n",
       "<thead>\n",
       "\t<tr><th scope=col>area</th><th scope=col>perimeter</th><th scope=col>compactness</th><th scope=col>length</th><th scope=col>width</th><th scope=col>asymmetry</th><th scope=col>groove</th><th scope=col>type</th></tr>\n",
       "\t<tr><th scope=col>&lt;dbl&gt;</th><th scope=col>&lt;dbl&gt;</th><th scope=col>&lt;dbl&gt;</th><th scope=col>&lt;dbl&gt;</th><th scope=col>&lt;dbl&gt;</th><th scope=col>&lt;dbl&gt;</th><th scope=col>&lt;dbl&gt;</th><th scope=col>&lt;fct&gt;</th></tr>\n",
       "</thead>\n",
       "<tbody>\n",
       "\t<tr><td>15.26</td><td>14.84</td><td>0.8710</td><td>5.763</td><td>3.312</td><td>2.221</td><td>5.220</td><td>A</td></tr>\n",
       "\t<tr><td>14.88</td><td>14.57</td><td>0.8811</td><td>5.554</td><td>3.333</td><td>1.018</td><td>4.956</td><td>A</td></tr>\n",
       "\t<tr><td>14.29</td><td>14.09</td><td>0.9050</td><td>5.291</td><td>3.337</td><td>2.699</td><td>4.825</td><td>A</td></tr>\n",
       "\t<tr><td>13.84</td><td>13.94</td><td>0.8955</td><td>5.324</td><td>3.379</td><td>2.259</td><td>4.805</td><td>A</td></tr>\n",
       "\t<tr><td>16.14</td><td>14.99</td><td>0.9034</td><td>5.658</td><td>3.562</td><td>1.355</td><td>5.175</td><td>A</td></tr>\n",
       "\t<tr><td>14.38</td><td>14.21</td><td>0.8951</td><td>5.386</td><td>3.312</td><td>2.462</td><td>4.956</td><td>A</td></tr>\n",
       "\t<tr><td>14.69</td><td>14.49</td><td>0.8799</td><td>5.563</td><td>3.259</td><td>3.586</td><td>5.219</td><td>A</td></tr>\n",
       "\t<tr><td>14.11</td><td>14.10</td><td>0.8911</td><td>5.420</td><td>   NA</td><td>2.700</td><td>5.000</td><td>A</td></tr>\n",
       "\t<tr><td>16.63</td><td>15.46</td><td>0.8747</td><td>6.053</td><td>3.465</td><td>2.040</td><td>5.877</td><td>A</td></tr>\n",
       "\t<tr><td>16.44</td><td>15.25</td><td>0.8880</td><td>5.884</td><td>3.505</td><td>1.969</td><td>5.533</td><td>A</td></tr>\n",
       "</tbody>\n",
       "</table>\n"
      ],
      "text/latex": [
       "A data.frame: 10 × 8\n",
       "\\begin{tabular}{r|llllllll}\n",
       " area & perimeter & compactness & length & width & asymmetry & groove & type\\\\\n",
       " <dbl> & <dbl> & <dbl> & <dbl> & <dbl> & <dbl> & <dbl> & <fct>\\\\\n",
       "\\hline\n",
       "\t 15.26 & 14.84 & 0.8710 & 5.763 & 3.312 & 2.221 & 5.220 & A\\\\\n",
       "\t 14.88 & 14.57 & 0.8811 & 5.554 & 3.333 & 1.018 & 4.956 & A\\\\\n",
       "\t 14.29 & 14.09 & 0.9050 & 5.291 & 3.337 & 2.699 & 4.825 & A\\\\\n",
       "\t 13.84 & 13.94 & 0.8955 & 5.324 & 3.379 & 2.259 & 4.805 & A\\\\\n",
       "\t 16.14 & 14.99 & 0.9034 & 5.658 & 3.562 & 1.355 & 5.175 & A\\\\\n",
       "\t 14.38 & 14.21 & 0.8951 & 5.386 & 3.312 & 2.462 & 4.956 & A\\\\\n",
       "\t 14.69 & 14.49 & 0.8799 & 5.563 & 3.259 & 3.586 & 5.219 & A\\\\\n",
       "\t 14.11 & 14.10 & 0.8911 & 5.420 &    NA & 2.700 & 5.000 & A\\\\\n",
       "\t 16.63 & 15.46 & 0.8747 & 6.053 & 3.465 & 2.040 & 5.877 & A\\\\\n",
       "\t 16.44 & 15.25 & 0.8880 & 5.884 & 3.505 & 1.969 & 5.533 & A\\\\\n",
       "\\end{tabular}\n"
      ],
      "text/markdown": [
       "\n",
       "A data.frame: 10 × 8\n",
       "\n",
       "| area &lt;dbl&gt; | perimeter &lt;dbl&gt; | compactness &lt;dbl&gt; | length &lt;dbl&gt; | width &lt;dbl&gt; | asymmetry &lt;dbl&gt; | groove &lt;dbl&gt; | type &lt;fct&gt; |\n",
       "|---|---|---|---|---|---|---|---|\n",
       "| 15.26 | 14.84 | 0.8710 | 5.763 | 3.312 | 2.221 | 5.220 | A |\n",
       "| 14.88 | 14.57 | 0.8811 | 5.554 | 3.333 | 1.018 | 4.956 | A |\n",
       "| 14.29 | 14.09 | 0.9050 | 5.291 | 3.337 | 2.699 | 4.825 | A |\n",
       "| 13.84 | 13.94 | 0.8955 | 5.324 | 3.379 | 2.259 | 4.805 | A |\n",
       "| 16.14 | 14.99 | 0.9034 | 5.658 | 3.562 | 1.355 | 5.175 | A |\n",
       "| 14.38 | 14.21 | 0.8951 | 5.386 | 3.312 | 2.462 | 4.956 | A |\n",
       "| 14.69 | 14.49 | 0.8799 | 5.563 | 3.259 | 3.586 | 5.219 | A |\n",
       "| 14.11 | 14.10 | 0.8911 | 5.420 |    NA | 2.700 | 5.000 | A |\n",
       "| 16.63 | 15.46 | 0.8747 | 6.053 | 3.465 | 2.040 | 5.877 | A |\n",
       "| 16.44 | 15.25 | 0.8880 | 5.884 | 3.505 | 1.969 | 5.533 | A |\n",
       "\n"
      ],
      "text/plain": [
       "   area  perimeter compactness length width asymmetry groove type\n",
       "1  15.26 14.84     0.8710      5.763  3.312 2.221     5.220  A   \n",
       "2  14.88 14.57     0.8811      5.554  3.333 1.018     4.956  A   \n",
       "3  14.29 14.09     0.9050      5.291  3.337 2.699     4.825  A   \n",
       "4  13.84 13.94     0.8955      5.324  3.379 2.259     4.805  A   \n",
       "5  16.14 14.99     0.9034      5.658  3.562 1.355     5.175  A   \n",
       "6  14.38 14.21     0.8951      5.386  3.312 2.462     4.956  A   \n",
       "7  14.69 14.49     0.8799      5.563  3.259 3.586     5.219  A   \n",
       "8  14.11 14.10     0.8911      5.420     NA 2.700     5.000  A   \n",
       "9  16.63 15.46     0.8747      6.053  3.465 2.040     5.877  A   \n",
       "10 16.44 15.25     0.8880      5.884  3.505 1.969     5.533  A   "
      ]
     },
     "metadata": {},
     "output_type": "display_data"
    }
   ],
   "source": [
    "##Loading the dataset\n",
    "wheat <- read.csv('/public/bmort/R/wheat.csv')\n",
    "head(wheat,10)"
   ]
  },
  {
   "cell_type": "code",
   "execution_count": 11,
   "metadata": {},
   "outputs": [
    {
     "data": {
      "text/html": [
       "<ol class=list-inline>\n",
       "\t<li>200</li>\n",
       "\t<li>8</li>\n",
       "</ol>\n"
      ],
      "text/latex": [
       "\\begin{enumerate*}\n",
       "\\item 200\n",
       "\\item 8\n",
       "\\end{enumerate*}\n"
      ],
      "text/markdown": [
       "1. 200\n",
       "2. 8\n",
       "\n",
       "\n"
      ],
      "text/plain": [
       "[1] 200   8"
      ]
     },
     "metadata": {},
     "output_type": "display_data"
    }
   ],
   "source": [
    "dim(wheat)"
   ]
  },
  {
   "cell_type": "code",
   "execution_count": 12,
   "metadata": {
    "scrolled": false
   },
   "outputs": [
    {
     "data": {
      "text/html": [
       "<table>\n",
       "<caption>A matrix: 1 × 2 of type int</caption>\n",
       "<thead>\n",
       "\t<tr><th scope=col>row</th><th scope=col>col</th></tr>\n",
       "</thead>\n",
       "<tbody>\n",
       "\t<tr><td>8</td><td>5</td></tr>\n",
       "</tbody>\n",
       "</table>\n"
      ],
      "text/latex": [
       "A matrix: 1 × 2 of type int\n",
       "\\begin{tabular}{ll}\n",
       " row & col\\\\\n",
       "\\hline\n",
       "\t 8 & 5\\\\\n",
       "\\end{tabular}\n"
      ],
      "text/markdown": [
       "\n",
       "A matrix: 1 × 2 of type int\n",
       "\n",
       "| row | col |\n",
       "|---|---|\n",
       "| 8 | 5 |\n",
       "\n"
      ],
      "text/plain": [
       "     row col\n",
       "[1,] 8   5  "
      ]
     },
     "metadata": {},
     "output_type": "display_data"
    }
   ],
   "source": [
    "## Locating the missing values  \n",
    "which(is.na(wheat), arr.ind = TRUE)"
   ]
  },
  {
   "cell_type": "markdown",
   "metadata": {},
   "source": [
    "From the output above, we can see that the missing value can be located at on the 8th row, 5th column."
   ]
  },
  {
   "cell_type": "code",
   "execution_count": 13,
   "metadata": {},
   "outputs": [],
   "source": [
    "### replacing the missing values in the width column with its column median\n",
    "wheat$width[is.na(wheat$width)] <- median(wheat$width, na.rm = T)"
   ]
  },
  {
   "cell_type": "code",
   "execution_count": 14,
   "metadata": {},
   "outputs": [
    {
     "data": {
      "text/html": [
       "<table>\n",
       "<caption>A data.frame: 10 × 8</caption>\n",
       "<thead>\n",
       "\t<tr><th scope=col>area</th><th scope=col>perimeter</th><th scope=col>compactness</th><th scope=col>length</th><th scope=col>width</th><th scope=col>asymmetry</th><th scope=col>groove</th><th scope=col>type</th></tr>\n",
       "\t<tr><th scope=col>&lt;dbl&gt;</th><th scope=col>&lt;dbl&gt;</th><th scope=col>&lt;dbl&gt;</th><th scope=col>&lt;dbl&gt;</th><th scope=col>&lt;dbl&gt;</th><th scope=col>&lt;dbl&gt;</th><th scope=col>&lt;dbl&gt;</th><th scope=col>&lt;fct&gt;</th></tr>\n",
       "</thead>\n",
       "<tbody>\n",
       "\t<tr><td>15.26</td><td>14.84</td><td>0.8710</td><td>5.763</td><td>3.312</td><td>2.221</td><td>5.220</td><td>A</td></tr>\n",
       "\t<tr><td>14.88</td><td>14.57</td><td>0.8811</td><td>5.554</td><td>3.333</td><td>1.018</td><td>4.956</td><td>A</td></tr>\n",
       "\t<tr><td>14.29</td><td>14.09</td><td>0.9050</td><td>5.291</td><td>3.337</td><td>2.699</td><td>4.825</td><td>A</td></tr>\n",
       "\t<tr><td>13.84</td><td>13.94</td><td>0.8955</td><td>5.324</td><td>3.379</td><td>2.259</td><td>4.805</td><td>A</td></tr>\n",
       "\t<tr><td>16.14</td><td>14.99</td><td>0.9034</td><td>5.658</td><td>3.562</td><td>1.355</td><td>5.175</td><td>A</td></tr>\n",
       "\t<tr><td>14.38</td><td>14.21</td><td>0.8951</td><td>5.386</td><td>3.312</td><td>2.462</td><td>4.956</td><td>A</td></tr>\n",
       "\t<tr><td>14.69</td><td>14.49</td><td>0.8799</td><td>5.563</td><td>3.259</td><td>3.586</td><td>5.219</td><td>A</td></tr>\n",
       "\t<tr><td>14.11</td><td>14.10</td><td>0.8911</td><td>5.420</td><td>3.245</td><td>2.700</td><td>5.000</td><td>A</td></tr>\n",
       "\t<tr><td>16.63</td><td>15.46</td><td>0.8747</td><td>6.053</td><td>3.465</td><td>2.040</td><td>5.877</td><td>A</td></tr>\n",
       "\t<tr><td>16.44</td><td>15.25</td><td>0.8880</td><td>5.884</td><td>3.505</td><td>1.969</td><td>5.533</td><td>A</td></tr>\n",
       "</tbody>\n",
       "</table>\n"
      ],
      "text/latex": [
       "A data.frame: 10 × 8\n",
       "\\begin{tabular}{r|llllllll}\n",
       " area & perimeter & compactness & length & width & asymmetry & groove & type\\\\\n",
       " <dbl> & <dbl> & <dbl> & <dbl> & <dbl> & <dbl> & <dbl> & <fct>\\\\\n",
       "\\hline\n",
       "\t 15.26 & 14.84 & 0.8710 & 5.763 & 3.312 & 2.221 & 5.220 & A\\\\\n",
       "\t 14.88 & 14.57 & 0.8811 & 5.554 & 3.333 & 1.018 & 4.956 & A\\\\\n",
       "\t 14.29 & 14.09 & 0.9050 & 5.291 & 3.337 & 2.699 & 4.825 & A\\\\\n",
       "\t 13.84 & 13.94 & 0.8955 & 5.324 & 3.379 & 2.259 & 4.805 & A\\\\\n",
       "\t 16.14 & 14.99 & 0.9034 & 5.658 & 3.562 & 1.355 & 5.175 & A\\\\\n",
       "\t 14.38 & 14.21 & 0.8951 & 5.386 & 3.312 & 2.462 & 4.956 & A\\\\\n",
       "\t 14.69 & 14.49 & 0.8799 & 5.563 & 3.259 & 3.586 & 5.219 & A\\\\\n",
       "\t 14.11 & 14.10 & 0.8911 & 5.420 & 3.245 & 2.700 & 5.000 & A\\\\\n",
       "\t 16.63 & 15.46 & 0.8747 & 6.053 & 3.465 & 2.040 & 5.877 & A\\\\\n",
       "\t 16.44 & 15.25 & 0.8880 & 5.884 & 3.505 & 1.969 & 5.533 & A\\\\\n",
       "\\end{tabular}\n"
      ],
      "text/markdown": [
       "\n",
       "A data.frame: 10 × 8\n",
       "\n",
       "| area &lt;dbl&gt; | perimeter &lt;dbl&gt; | compactness &lt;dbl&gt; | length &lt;dbl&gt; | width &lt;dbl&gt; | asymmetry &lt;dbl&gt; | groove &lt;dbl&gt; | type &lt;fct&gt; |\n",
       "|---|---|---|---|---|---|---|---|\n",
       "| 15.26 | 14.84 | 0.8710 | 5.763 | 3.312 | 2.221 | 5.220 | A |\n",
       "| 14.88 | 14.57 | 0.8811 | 5.554 | 3.333 | 1.018 | 4.956 | A |\n",
       "| 14.29 | 14.09 | 0.9050 | 5.291 | 3.337 | 2.699 | 4.825 | A |\n",
       "| 13.84 | 13.94 | 0.8955 | 5.324 | 3.379 | 2.259 | 4.805 | A |\n",
       "| 16.14 | 14.99 | 0.9034 | 5.658 | 3.562 | 1.355 | 5.175 | A |\n",
       "| 14.38 | 14.21 | 0.8951 | 5.386 | 3.312 | 2.462 | 4.956 | A |\n",
       "| 14.69 | 14.49 | 0.8799 | 5.563 | 3.259 | 3.586 | 5.219 | A |\n",
       "| 14.11 | 14.10 | 0.8911 | 5.420 | 3.245 | 2.700 | 5.000 | A |\n",
       "| 16.63 | 15.46 | 0.8747 | 6.053 | 3.465 | 2.040 | 5.877 | A |\n",
       "| 16.44 | 15.25 | 0.8880 | 5.884 | 3.505 | 1.969 | 5.533 | A |\n",
       "\n"
      ],
      "text/plain": [
       "   area  perimeter compactness length width asymmetry groove type\n",
       "1  15.26 14.84     0.8710      5.763  3.312 2.221     5.220  A   \n",
       "2  14.88 14.57     0.8811      5.554  3.333 1.018     4.956  A   \n",
       "3  14.29 14.09     0.9050      5.291  3.337 2.699     4.825  A   \n",
       "4  13.84 13.94     0.8955      5.324  3.379 2.259     4.805  A   \n",
       "5  16.14 14.99     0.9034      5.658  3.562 1.355     5.175  A   \n",
       "6  14.38 14.21     0.8951      5.386  3.312 2.462     4.956  A   \n",
       "7  14.69 14.49     0.8799      5.563  3.259 3.586     5.219  A   \n",
       "8  14.11 14.10     0.8911      5.420  3.245 2.700     5.000  A   \n",
       "9  16.63 15.46     0.8747      6.053  3.465 2.040     5.877  A   \n",
       "10 16.44 15.25     0.8880      5.884  3.505 1.969     5.533  A   "
      ]
     },
     "metadata": {},
     "output_type": "display_data"
    }
   ],
   "source": [
    "head(wheat,10)"
   ]
  },
  {
   "cell_type": "markdown",
   "metadata": {},
   "source": [
    "**B. Produce a table of summary statistics on the data set. How do the ranges of the\n",
    "values in the columns compare? Does each column of data have similar magnitudes\n",
    "and ranges? Are there any outliers?**"
   ]
  },
  {
   "cell_type": "code",
   "execution_count": 15,
   "metadata": {
    "scrolled": true
   },
   "outputs": [
    {
     "data": {
      "text/plain": [
       "      area         perimeter      compactness         length     \n",
       " Min.   :10.59   Min.   :12.41   Min.   :0.8081   Min.   :4.899  \n",
       " 1st Qu.:12.38   1st Qu.:13.47   1st Qu.:0.8583   1st Qu.:5.257  \n",
       " Median :14.40   Median :14.38   Median :0.8745   Median :5.534  \n",
       " Mean   :14.94   Mean   :14.60   Mean   :0.8721   Mean   :5.639  \n",
       " 3rd Qu.:17.41   3rd Qu.:15.78   3rd Qu.:0.8879   3rd Qu.:6.009  \n",
       " Max.   :21.18   Max.   :17.25   Max.   :0.9183   Max.   :6.675  \n",
       "     width         asymmetry          groove      type  \n",
       " Min.   :2.642   Min.   :0.7651   Min.   :4.519   A:68  \n",
       " 1st Qu.:2.965   1st Qu.:2.4935   1st Qu.:5.043   B:69  \n",
       " Median :3.245   Median :3.5915   Median :5.226   C:63  \n",
       " Mean   :3.273   Mean   :3.6627   Mean   :5.414         \n",
       " 3rd Qu.:3.564   3rd Qu.:4.7043   3rd Qu.:5.879         \n",
       " Max.   :4.033   Max.   :8.4560   Max.   :6.550         "
      ]
     },
     "metadata": {},
     "output_type": "display_data"
    }
   ],
   "source": [
    "## Summary table\n",
    "summary(wheat)"
   ]
  },
  {
   "cell_type": "markdown",
   "metadata": {},
   "source": [
    "compactness ranges from 0 to 1\n",
    "Other explanatory variables have their respective ranges considering on their minimum and maximum values. For instance area can be said to be in the range (10, 22). perimeter(12,17),...\n"
   ]
  },
  {
   "cell_type": "markdown",
   "metadata": {},
   "source": [
    "**C. Using the corrplot library's corrplot() function, generate a plot showing the correlations between the numerical data in the data set. Show the command used togenerate the plot and include the plot in your output.**"
   ]
  },
  {
   "cell_type": "code",
   "execution_count": 29,
   "metadata": {},
   "outputs": [],
   "source": [
    "# Installing the corrplot  package\n",
    "install.packages('corrplot')\n",
    "library(corrplot)"
   ]
  },
  {
   "cell_type": "code",
   "execution_count": 17,
   "metadata": {},
   "outputs": [],
   "source": [
    "wheat_num <- wheat[1:7]"
   ]
  },
  {
   "cell_type": "code",
   "execution_count": 18,
   "metadata": {},
   "outputs": [
    {
     "data": {
      "image/png": "[encoded data removed]",
      "text/plain": [
       "Plot with title “Correlation Plot”"
      ]
     },
     "metadata": {},
     "output_type": "display_data"
    }
   ],
   "source": [
    "## A plot showing the correlation between the numeraical values\n",
    "corrplot(cor(wheat_num),title = 'Correlation Plot', method = 'number')"
   ]
  },
  {
   "cell_type": "code",
   "execution_count": 19,
   "metadata": {},
   "outputs": [
    {
     "data": {
      "text/html": [
       "<table>\n",
       "<caption>A matrix: 7 × 7 of type dbl</caption>\n",
       "<thead>\n",
       "\t<tr><th></th><th scope=col>area</th><th scope=col>perimeter</th><th scope=col>compactness</th><th scope=col>length</th><th scope=col>width</th><th scope=col>asymmetry</th><th scope=col>groove</th></tr>\n",
       "</thead>\n",
       "<tbody>\n",
       "\t<tr><th scope=row>area</th><td> 1.0000000</td><td> 0.9943445</td><td> 0.5842226</td><td> 0.9523925</td><td> 0.9710572</td><td>-0.1988635105</td><td> 0.8724029594</td></tr>\n",
       "\t<tr><th scope=row>perimeter</th><td> 0.9943445</td><td> 1.0000000</td><td> 0.5036671</td><td> 0.9740075</td><td> 0.9453413</td><td>-0.1891508530</td><td> 0.8977514250</td></tr>\n",
       "\t<tr><th scope=row>compactness</th><td> 0.5842226</td><td> 0.5036671</td><td> 1.0000000</td><td> 0.3480583</td><td> 0.7404249</td><td>-0.2973895580</td><td> 0.2184362316</td></tr>\n",
       "\t<tr><th scope=row>length</th><td> 0.9523925</td><td> 0.9740075</td><td> 0.3480583</td><td> 1.0000000</td><td> 0.8649300</td><td>-0.1536175245</td><td> 0.9351724535</td></tr>\n",
       "\t<tr><th scope=row>width</th><td> 0.9710572</td><td> 0.9453413</td><td> 0.7404249</td><td> 0.8649300</td><td> 1.0000000</td><td>-0.2228771417</td><td> 0.7625547304</td></tr>\n",
       "\t<tr><th scope=row>asymmetry</th><td>-0.1988635</td><td>-0.1891509</td><td>-0.2973896</td><td>-0.1536175</td><td>-0.2228771</td><td> 1.0000000000</td><td>-0.0006429224</td></tr>\n",
       "\t<tr><th scope=row>groove</th><td> 0.8724030</td><td> 0.8977514</td><td> 0.2184362</td><td> 0.9351725</td><td> 0.7625547</td><td>-0.0006429224</td><td> 1.0000000000</td></tr>\n",
       "</tbody>\n",
       "</table>\n"
      ],
      "text/latex": [
       "A matrix: 7 × 7 of type dbl\n",
       "\\begin{tabular}{r|lllllll}\n",
       "  & area & perimeter & compactness & length & width & asymmetry & groove\\\\\n",
       "\\hline\n",
       "\tarea &  1.0000000 &  0.9943445 &  0.5842226 &  0.9523925 &  0.9710572 & -0.1988635105 &  0.8724029594\\\\\n",
       "\tperimeter &  0.9943445 &  1.0000000 &  0.5036671 &  0.9740075 &  0.9453413 & -0.1891508530 &  0.8977514250\\\\\n",
       "\tcompactness &  0.5842226 &  0.5036671 &  1.0000000 &  0.3480583 &  0.7404249 & -0.2973895580 &  0.2184362316\\\\\n",
       "\tlength &  0.9523925 &  0.9740075 &  0.3480583 &  1.0000000 &  0.8649300 & -0.1536175245 &  0.9351724535\\\\\n",
       "\twidth &  0.9710572 &  0.9453413 &  0.7404249 &  0.8649300 &  1.0000000 & -0.2228771417 &  0.7625547304\\\\\n",
       "\tasymmetry & -0.1988635 & -0.1891509 & -0.2973896 & -0.1536175 & -0.2228771 &  1.0000000000 & -0.0006429224\\\\\n",
       "\tgroove &  0.8724030 &  0.8977514 &  0.2184362 &  0.9351725 &  0.7625547 & -0.0006429224 &  1.0000000000\\\\\n",
       "\\end{tabular}\n"
      ],
      "text/markdown": [
       "\n",
       "A matrix: 7 × 7 of type dbl\n",
       "\n",
       "| <!--/--> | area | perimeter | compactness | length | width | asymmetry | groove |\n",
       "|---|---|---|---|---|---|---|---|\n",
       "| area |  1.0000000 |  0.9943445 |  0.5842226 |  0.9523925 |  0.9710572 | -0.1988635105 |  0.8724029594 |\n",
       "| perimeter |  0.9943445 |  1.0000000 |  0.5036671 |  0.9740075 |  0.9453413 | -0.1891508530 |  0.8977514250 |\n",
       "| compactness |  0.5842226 |  0.5036671 |  1.0000000 |  0.3480583 |  0.7404249 | -0.2973895580 |  0.2184362316 |\n",
       "| length |  0.9523925 |  0.9740075 |  0.3480583 |  1.0000000 |  0.8649300 | -0.1536175245 |  0.9351724535 |\n",
       "| width |  0.9710572 |  0.9453413 |  0.7404249 |  0.8649300 |  1.0000000 | -0.2228771417 |  0.7625547304 |\n",
       "| asymmetry | -0.1988635 | -0.1891509 | -0.2973896 | -0.1536175 | -0.2228771 |  1.0000000000 | -0.0006429224 |\n",
       "| groove |  0.8724030 |  0.8977514 |  0.2184362 |  0.9351725 |  0.7625547 | -0.0006429224 |  1.0000000000 |\n",
       "\n"
      ],
      "text/plain": [
       "            area       perimeter  compactness length     width     \n",
       "area         1.0000000  0.9943445  0.5842226   0.9523925  0.9710572\n",
       "perimeter    0.9943445  1.0000000  0.5036671   0.9740075  0.9453413\n",
       "compactness  0.5842226  0.5036671  1.0000000   0.3480583  0.7404249\n",
       "length       0.9523925  0.9740075  0.3480583   1.0000000  0.8649300\n",
       "width        0.9710572  0.9453413  0.7404249   0.8649300  1.0000000\n",
       "asymmetry   -0.1988635 -0.1891509 -0.2973896  -0.1536175 -0.2228771\n",
       "groove       0.8724030  0.8977514  0.2184362   0.9351725  0.7625547\n",
       "            asymmetry     groove       \n",
       "area        -0.1988635105  0.8724029594\n",
       "perimeter   -0.1891508530  0.8977514250\n",
       "compactness -0.2973895580  0.2184362316\n",
       "length      -0.1536175245  0.9351724535\n",
       "width       -0.2228771417  0.7625547304\n",
       "asymmetry    1.0000000000 -0.0006429224\n",
       "groove      -0.0006429224  1.0000000000"
      ]
     },
     "metadata": {},
     "output_type": "display_data"
    }
   ],
   "source": [
    "cor(wheat_num)"
   ]
  },
  {
   "cell_type": "markdown",
   "metadata": {},
   "source": [
    "**D. Partition the beans data set so that 80% will be used for training and 20% will be used for testing your machine learning model. You can do the partition manually at random or use the createDataPartition() function in R's caret library. **"
   ]
  },
  {
   "cell_type": "code",
   "execution_count": 28,
   "metadata": {},
   "outputs": [],
   "source": [
    "install.packages('caret')\n",
    "install.packages('ggplot2')\n",
    "install.packages('lattice')\n",
    "library(caret)\n",
    "library(ggplot2)\n",
    "library(lattice)"
   ]
  },
  {
   "cell_type": "code",
   "execution_count": 21,
   "metadata": {},
   "outputs": [],
   "source": [
    "## Partitioning the data set\n",
    "split_data <- createDataPartition(wheat$type, p= 0.8, list = FALSE)\n",
    "# print(split_data)"
   ]
  },
  {
   "cell_type": "code",
   "execution_count": 22,
   "metadata": {
    "scrolled": true
   },
   "outputs": [],
   "source": [
    "## The training and testing data\n",
    "train_data <- wheat[split_data,]\n",
    "test_data <- wheat[-split_data, ]"
   ]
  },
  {
   "cell_type": "markdown",
   "metadata": {},
   "source": [
    "**E. Use the support vector machine (SVM) method with a linear basis function kernel from R's caret library to generate a machine learning model for the 7 types of wheat seeds based on some or all features provided in the data set. Using the caret library's trainControl() function, check your model parameter and feature selection by performing repeated cross-validation (with 5-folds)on the training data for your model. Consult the caret library documentation as needed.**"
   ]
  },
  {
   "cell_type": "code",
   "execution_count": 23,
   "metadata": {},
   "outputs": [
    {
     "data": {
      "text/plain": [
       "Support Vector Machines with Linear Kernel \n",
       "\n",
       "162 samples\n",
       "  7 predictor\n",
       "  3 classes: 'A', 'B', 'C' \n",
       "\n",
       "Pre-processing: centered (7), scaled (7) \n",
       "Resampling: Cross-Validated (5 fold, repeated 1 times) \n",
       "Summary of sample sizes: 130, 130, 130, 129, 129 \n",
       "Resampling results:\n",
       "\n",
       "  Accuracy  Kappa    \n",
       "  0.907197  0.8609243\n",
       "\n",
       "Tuning parameter 'C' was held constant at a value of 1"
      ]
     },
     "metadata": {},
     "output_type": "display_data"
    }
   ],
   "source": [
    "## setting up for cross validation\n",
    "t_ctrl <- trainControl(method = 'repeatedcv', number = 5)\n",
    "\n",
    "## setting up the model\n",
    "svm_model <- train(type~., data = train_data, method = 'svmLinear', \n",
    "               trControl = t_ctrl, metric = 'Accuracy', preProcess= c('center', 'scale'))\n",
    "svm_model"
   ]
  },
  {
   "cell_type": "markdown",
   "metadata": {},
   "source": [
    "**F. Use the test data set (i.e. the 20% of the data that was kept aside earlier) to generate a final validation for your model with the predict() function in the  caret library. Comment on the accuracy of the model.** "
   ]
  },
  {
   "cell_type": "code",
   "execution_count": 24,
   "metadata": {},
   "outputs": [
    {
     "data": {
      "text/html": [
       "<ol class=list-inline>\n",
       "\t<li>A</li>\n",
       "\t<li>B</li>\n",
       "\t<li>A</li>\n",
       "\t<li>A</li>\n",
       "\t<li>A</li>\n",
       "\t<li>A</li>\n",
       "\t<li>A</li>\n",
       "\t<li>A</li>\n",
       "\t<li>A</li>\n",
       "\t<li>A</li>\n",
       "\t<li>B</li>\n",
       "\t<li>A</li>\n",
       "\t<li>A</li>\n",
       "\t<li>B</li>\n",
       "\t<li>B</li>\n",
       "\t<li>B</li>\n",
       "\t<li>B</li>\n",
       "\t<li>B</li>\n",
       "\t<li>B</li>\n",
       "\t<li>B</li>\n",
       "\t<li>B</li>\n",
       "\t<li>B</li>\n",
       "\t<li>B</li>\n",
       "\t<li>B</li>\n",
       "\t<li>B</li>\n",
       "\t<li>B</li>\n",
       "\t<li>C</li>\n",
       "\t<li>C</li>\n",
       "\t<li>C</li>\n",
       "\t<li>C</li>\n",
       "\t<li>C</li>\n",
       "\t<li>C</li>\n",
       "\t<li>C</li>\n",
       "\t<li>A</li>\n",
       "\t<li>C</li>\n",
       "\t<li>C</li>\n",
       "\t<li>C</li>\n",
       "\t<li>C</li>\n",
       "</ol>\n",
       "\n",
       "<details>\n",
       "\t<summary style=display:list-item;cursor:pointer>\n",
       "\t\t<strong>Levels</strong>:\n",
       "\t</summary>\n",
       "\t<ol class=list-inline>\n",
       "\t\t<li>'A'</li>\n",
       "\t\t<li>'B'</li>\n",
       "\t\t<li>'C'</li>\n",
       "\t</ol>\n",
       "</details>"
      ],
      "text/latex": [
       "\\begin{enumerate*}\n",
       "\\item A\n",
       "\\item B\n",
       "\\item A\n",
       "\\item A\n",
       "\\item A\n",
       "\\item A\n",
       "\\item A\n",
       "\\item A\n",
       "\\item A\n",
       "\\item A\n",
       "\\item B\n",
       "\\item A\n",
       "\\item A\n",
       "\\item B\n",
       "\\item B\n",
       "\\item B\n",
       "\\item B\n",
       "\\item B\n",
       "\\item B\n",
       "\\item B\n",
       "\\item B\n",
       "\\item B\n",
       "\\item B\n",
       "\\item B\n",
       "\\item B\n",
       "\\item B\n",
       "\\item C\n",
       "\\item C\n",
       "\\item C\n",
       "\\item C\n",
       "\\item C\n",
       "\\item C\n",
       "\\item C\n",
       "\\item A\n",
       "\\item C\n",
       "\\item C\n",
       "\\item C\n",
       "\\item C\n",
       "\\end{enumerate*}\n",
       "\n",
       "\\emph{Levels}: \\begin{enumerate*}\n",
       "\\item 'A'\n",
       "\\item 'B'\n",
       "\\item 'C'\n",
       "\\end{enumerate*}\n"
      ],
      "text/markdown": [
       "1. A\n",
       "2. B\n",
       "3. A\n",
       "4. A\n",
       "5. A\n",
       "6. A\n",
       "7. A\n",
       "8. A\n",
       "9. A\n",
       "10. A\n",
       "11. B\n",
       "12. A\n",
       "13. A\n",
       "14. B\n",
       "15. B\n",
       "16. B\n",
       "17. B\n",
       "18. B\n",
       "19. B\n",
       "20. B\n",
       "21. B\n",
       "22. B\n",
       "23. B\n",
       "24. B\n",
       "25. B\n",
       "26. B\n",
       "27. C\n",
       "28. C\n",
       "29. C\n",
       "30. C\n",
       "31. C\n",
       "32. C\n",
       "33. C\n",
       "34. A\n",
       "35. C\n",
       "36. C\n",
       "37. C\n",
       "38. C\n",
       "\n",
       "\n",
       "\n",
       "**Levels**: 1. 'A'\n",
       "2. 'B'\n",
       "3. 'C'\n",
       "\n",
       "\n"
      ],
      "text/plain": [
       " [1] A B A A A A A A A A B A A B B B B B B B B B B B B B C C C C C C C A C C C C\n",
       "Levels: A B C"
      ]
     },
     "metadata": {},
     "output_type": "display_data"
    }
   ],
   "source": [
    "## predicting the test data\n",
    "pred_test <- predict(object = svm_model, newdata = test_data[1:7])\n",
    "pred_test"
   ]
  },
  {
   "cell_type": "code",
   "execution_count": 25,
   "metadata": {},
   "outputs": [
    {
     "data": {
      "text/plain": [
       "Confusion Matrix and Statistics\n",
       "\n",
       "         \n",
       "pred_test  A  B  C\n",
       "        A 11  0  1\n",
       "        B  2 13  0\n",
       "        C  0  0 11\n",
       "\n",
       "Overall Statistics\n",
       "                                          \n",
       "               Accuracy : 0.9211          \n",
       "                 95% CI : (0.7862, 0.9834)\n",
       "    No Information Rate : 0.3421          \n",
       "    P-Value [Acc > NIR] : 1.245e-13       \n",
       "                                          \n",
       "                  Kappa : 0.8814          \n",
       "                                          \n",
       " Mcnemar's Test P-Value : NA              \n",
       "\n",
       "Statistics by Class:\n",
       "\n",
       "                     Class: A Class: B Class: C\n",
       "Sensitivity            0.8462   1.0000   0.9167\n",
       "Specificity            0.9600   0.9200   1.0000\n",
       "Pos Pred Value         0.9167   0.8667   1.0000\n",
       "Neg Pred Value         0.9231   1.0000   0.9630\n",
       "Prevalence             0.3421   0.3421   0.3158\n",
       "Detection Rate         0.2895   0.3421   0.2895\n",
       "Detection Prevalence   0.3158   0.3947   0.2895\n",
       "Balanced Accuracy      0.9031   0.9600   0.9583"
      ]
     },
     "metadata": {},
     "output_type": "display_data"
    }
   ],
   "source": [
    "confusionMatrix(table(pred_test, test_data$type))"
   ]
  },
  {
   "cell_type": "markdown",
   "metadata": {},
   "source": [
    "The accuracy of the SVM model for this wheat dataset is 92.11% "
   ]
  },
  {
   "cell_type": "markdown",
   "metadata": {},
   "source": [
    "**G. Based on your model, classify the beans provided in the unlabeled /public/bmort/R/wheat-unknown.csv data set. Indicate which classification of the 7 available types has been assigned to each of the unlabeled seeds.**"
   ]
  },
  {
   "cell_type": "code",
   "execution_count": 26,
   "metadata": {},
   "outputs": [
    {
     "data": {
      "text/html": [
       "<table>\n",
       "<caption>A data.frame: 10 × 7</caption>\n",
       "<thead>\n",
       "\t<tr><th scope=col>area</th><th scope=col>perimeter</th><th scope=col>compactness</th><th scope=col>length</th><th scope=col>width</th><th scope=col>asymmetry</th><th scope=col>groove</th></tr>\n",
       "\t<tr><th scope=col>&lt;dbl&gt;</th><th scope=col>&lt;dbl&gt;</th><th scope=col>&lt;dbl&gt;</th><th scope=col>&lt;dbl&gt;</th><th scope=col>&lt;dbl&gt;</th><th scope=col>&lt;dbl&gt;</th><th scope=col>&lt;dbl&gt;</th></tr>\n",
       "</thead>\n",
       "<tbody>\n",
       "\t<tr><td>11.56</td><td>13.31</td><td>0.8198</td><td>5.363</td><td>2.683</td><td>4.062</td><td>5.182</td></tr>\n",
       "\t<tr><td>14.79</td><td>14.52</td><td>0.8819</td><td>5.545</td><td>3.291</td><td>2.704</td><td>5.111</td></tr>\n",
       "\t<tr><td>10.82</td><td>12.83</td><td>0.8256</td><td>5.180</td><td>2.630</td><td>4.853</td><td>5.089</td></tr>\n",
       "\t<tr><td>13.32</td><td>13.94</td><td>0.8613</td><td>5.541</td><td>3.073</td><td>7.035</td><td>5.440</td></tr>\n",
       "\t<tr><td>11.49</td><td>13.22</td><td>0.8263</td><td>5.304</td><td>2.695</td><td>5.388</td><td>5.310</td></tr>\n",
       "\t<tr><td>10.83</td><td>12.96</td><td>0.8099</td><td>5.278</td><td>2.641</td><td>5.182</td><td>5.185</td></tr>\n",
       "\t<tr><td>15.11</td><td>14.54</td><td>0.8986</td><td>5.579</td><td>3.462</td><td>3.128</td><td>5.180</td></tr>\n",
       "\t<tr><td>11.19</td><td>13.05</td><td>0.8253</td><td>5.250</td><td>2.675</td><td>5.813</td><td>5.219</td></tr>\n",
       "\t<tr><td>12.02</td><td>13.33</td><td>0.8503</td><td>5.350</td><td>2.810</td><td>4.271</td><td>5.308</td></tr>\n",
       "\t<tr><td>17.99</td><td>15.86</td><td>0.8992</td><td>5.890</td><td>3.694</td><td>2.068</td><td>5.837</td></tr>\n",
       "</tbody>\n",
       "</table>\n"
      ],
      "text/latex": [
       "A data.frame: 10 × 7\n",
       "\\begin{tabular}{r|lllllll}\n",
       " area & perimeter & compactness & length & width & asymmetry & groove\\\\\n",
       " <dbl> & <dbl> & <dbl> & <dbl> & <dbl> & <dbl> & <dbl>\\\\\n",
       "\\hline\n",
       "\t 11.56 & 13.31 & 0.8198 & 5.363 & 2.683 & 4.062 & 5.182\\\\\n",
       "\t 14.79 & 14.52 & 0.8819 & 5.545 & 3.291 & 2.704 & 5.111\\\\\n",
       "\t 10.82 & 12.83 & 0.8256 & 5.180 & 2.630 & 4.853 & 5.089\\\\\n",
       "\t 13.32 & 13.94 & 0.8613 & 5.541 & 3.073 & 7.035 & 5.440\\\\\n",
       "\t 11.49 & 13.22 & 0.8263 & 5.304 & 2.695 & 5.388 & 5.310\\\\\n",
       "\t 10.83 & 12.96 & 0.8099 & 5.278 & 2.641 & 5.182 & 5.185\\\\\n",
       "\t 15.11 & 14.54 & 0.8986 & 5.579 & 3.462 & 3.128 & 5.180\\\\\n",
       "\t 11.19 & 13.05 & 0.8253 & 5.250 & 2.675 & 5.813 & 5.219\\\\\n",
       "\t 12.02 & 13.33 & 0.8503 & 5.350 & 2.810 & 4.271 & 5.308\\\\\n",
       "\t 17.99 & 15.86 & 0.8992 & 5.890 & 3.694 & 2.068 & 5.837\\\\\n",
       "\\end{tabular}\n"
      ],
      "text/markdown": [
       "\n",
       "A data.frame: 10 × 7\n",
       "\n",
       "| area &lt;dbl&gt; | perimeter &lt;dbl&gt; | compactness &lt;dbl&gt; | length &lt;dbl&gt; | width &lt;dbl&gt; | asymmetry &lt;dbl&gt; | groove &lt;dbl&gt; |\n",
       "|---|---|---|---|---|---|---|\n",
       "| 11.56 | 13.31 | 0.8198 | 5.363 | 2.683 | 4.062 | 5.182 |\n",
       "| 14.79 | 14.52 | 0.8819 | 5.545 | 3.291 | 2.704 | 5.111 |\n",
       "| 10.82 | 12.83 | 0.8256 | 5.180 | 2.630 | 4.853 | 5.089 |\n",
       "| 13.32 | 13.94 | 0.8613 | 5.541 | 3.073 | 7.035 | 5.440 |\n",
       "| 11.49 | 13.22 | 0.8263 | 5.304 | 2.695 | 5.388 | 5.310 |\n",
       "| 10.83 | 12.96 | 0.8099 | 5.278 | 2.641 | 5.182 | 5.185 |\n",
       "| 15.11 | 14.54 | 0.8986 | 5.579 | 3.462 | 3.128 | 5.180 |\n",
       "| 11.19 | 13.05 | 0.8253 | 5.250 | 2.675 | 5.813 | 5.219 |\n",
       "| 12.02 | 13.33 | 0.8503 | 5.350 | 2.810 | 4.271 | 5.308 |\n",
       "| 17.99 | 15.86 | 0.8992 | 5.890 | 3.694 | 2.068 | 5.837 |\n",
       "\n"
      ],
      "text/plain": [
       "   area  perimeter compactness length width asymmetry groove\n",
       "1  11.56 13.31     0.8198      5.363  2.683 4.062     5.182 \n",
       "2  14.79 14.52     0.8819      5.545  3.291 2.704     5.111 \n",
       "3  10.82 12.83     0.8256      5.180  2.630 4.853     5.089 \n",
       "4  13.32 13.94     0.8613      5.541  3.073 7.035     5.440 \n",
       "5  11.49 13.22     0.8263      5.304  2.695 5.388     5.310 \n",
       "6  10.83 12.96     0.8099      5.278  2.641 5.182     5.185 \n",
       "7  15.11 14.54     0.8986      5.579  3.462 3.128     5.180 \n",
       "8  11.19 13.05     0.8253      5.250  2.675 5.813     5.219 \n",
       "9  12.02 13.33     0.8503      5.350  2.810 4.271     5.308 \n",
       "10 17.99 15.86     0.8992      5.890  3.694 2.068     5.837 "
      ]
     },
     "metadata": {},
     "output_type": "display_data"
    }
   ],
   "source": [
    "wheat_new <- read.csv('/public/bmort/R/wheat-unknown.csv')\n",
    "wheat_new"
   ]
  },
  {
   "cell_type": "code",
   "execution_count": 27,
   "metadata": {},
   "outputs": [
    {
     "data": {
      "text/html": [
       "<ol class=list-inline>\n",
       "\t<li>C</li>\n",
       "\t<li>A</li>\n",
       "\t<li>C</li>\n",
       "\t<li>C</li>\n",
       "\t<li>C</li>\n",
       "\t<li>C</li>\n",
       "\t<li>A</li>\n",
       "\t<li>C</li>\n",
       "\t<li>C</li>\n",
       "\t<li>B</li>\n",
       "</ol>\n",
       "\n",
       "<details>\n",
       "\t<summary style=display:list-item;cursor:pointer>\n",
       "\t\t<strong>Levels</strong>:\n",
       "\t</summary>\n",
       "\t<ol class=list-inline>\n",
       "\t\t<li>'A'</li>\n",
       "\t\t<li>'B'</li>\n",
       "\t\t<li>'C'</li>\n",
       "\t</ol>\n",
       "</details>"
      ],
      "text/latex": [
       "\\begin{enumerate*}\n",
       "\\item C\n",
       "\\item A\n",
       "\\item C\n",
       "\\item C\n",
       "\\item C\n",
       "\\item C\n",
       "\\item A\n",
       "\\item C\n",
       "\\item C\n",
       "\\item B\n",
       "\\end{enumerate*}\n",
       "\n",
       "\\emph{Levels}: \\begin{enumerate*}\n",
       "\\item 'A'\n",
       "\\item 'B'\n",
       "\\item 'C'\n",
       "\\end{enumerate*}\n"
      ],
      "text/markdown": [
       "1. C\n",
       "2. A\n",
       "3. C\n",
       "4. C\n",
       "5. C\n",
       "6. C\n",
       "7. A\n",
       "8. C\n",
       "9. C\n",
       "10. B\n",
       "\n",
       "\n",
       "\n",
       "**Levels**: 1. 'A'\n",
       "2. 'B'\n",
       "3. 'C'\n",
       "\n",
       "\n"
      ],
      "text/plain": [
       " [1] C A C C C C A C C B\n",
       "Levels: A B C"
      ]
     },
     "metadata": {},
     "output_type": "display_data"
    }
   ],
   "source": [
    "predict(svm_model, wheat_new)"
   ]
  },
  {
   "cell_type": "markdown",
   "metadata": {},
   "source": [
    "The model predicts the above as the types of wheat for the new dataset given."
   ]
  }
 ],
 "metadata": {
  "kernelspec": {
   "display_name": "R 3.6.1",
   "language": "R",
   "name": "r-3.6.1"
  },
  "language_info": {
   "codemirror_mode": "r",
   "file_extension": ".r",
   "mimetype": "text/x-r-source",
   "name": "R",
   "pygments_lexer": "r",
   "version": "3.6.1"
  }
 },
 "nbformat": 4,
 "nbformat_minor": 2
}
